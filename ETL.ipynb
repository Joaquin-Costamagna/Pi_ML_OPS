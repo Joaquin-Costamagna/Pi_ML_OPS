{
 "cells": [
  {
   "cell_type": "markdown",
   "metadata": {},
   "source": [
    "## We import the necessary libraries"
   ]
  },
  {
   "cell_type": "code",
   "execution_count": 1,
   "metadata": {},
   "outputs": [],
   "source": [
    "import pandas as pd\n",
    "import numpy as np\n",
    "import matplotlib.pyplot as plt \n",
    "import seaborn as sn\n",
    "import ast\n",
    "import json\n",
    "import nltk\n",
    "from textblob import*"
   ]
  },
  {
   "cell_type": "markdown",
   "metadata": {},
   "source": [
    "## We will carry out a standardized process for each dataset:\n",
    "\n",
    "*  JSON Import: We begin by loading the data from the corresponding JSON file.\n",
    "\n",
    "*  Exploratory Analysis: We conduct an initial analysis of the data to understand its structure and content.\n",
    "\n",
    "*  Removal of Unnecessary Columns: We identify columns that won't contribute relevant information to our analysis and remove them from the dataset.\n",
    "\n",
    "*  Format Adjustment: We ensure that the format of the remaining columns is suitable for our analysis. This may involve data type conversion or format normalization.\n",
    "\n",
    "*  Detection and Handling of Duplicates and Null Values: We identify duplicate records and manage null values in the dataset.\n",
    "\n",
    "*  This standardized process will enable us to efficiently prepare the data for subsequent analysis.\n",
    "\n",
    "*  Transform each dataset for the optimal processing of each endpoint\n",
    "\n",
    "\n",
    "\n",
    "\n",
    "\n"
   ]
  },
  {
   "cell_type": "markdown",
   "metadata": {},
   "source": [
    "# Reviews"
   ]
  },
  {
   "cell_type": "code",
   "execution_count": 2,
   "metadata": {},
   "outputs": [],
   "source": [
    "# Import the JSON files\n",
    "\n",
    "# List to store JSON dictionaries from each line\n",
    "data_list = []\n",
    "\n",
    "# JSON file path\n",
    "file_path = 'Data/australian_user_reviews.json'\n",
    "\n",
    "# Open the file and process each line\n",
    "with open(file_path, 'r', encoding='utf-8') as file:\n",
    "    for line in file:\n",
    "        try:\n",
    "            # Use ast.literal_eval to convert the line into a dictionary\n",
    "            json_data = ast.literal_eval(line)\n",
    "            data_list.append(json_data)\n",
    "        except ValueError as e:\n",
    "            print(f\"Error in line: {line}\")\n",
    "            continue\n",
    "\n",
    "# Create a DataFrame from the list of dictionaries\n",
    "df_user_reviews = pd.DataFrame(data_list)\n"
   ]
  },
  {
   "cell_type": "markdown",
   "metadata": {},
   "source": [
    "### Limpieza y Normalizacion"
   ]
  },
  {
   "cell_type": "code",
   "execution_count": 3,
   "metadata": {},
   "outputs": [],
   "source": [
    "df_user_reviews = pd.json_normalize(df_user_reviews.to_dict('records'), 'reviews', ['user_id', 'user_url'])\n"
   ]
  },
  {
   "cell_type": "markdown",
   "metadata": {},
   "source": [
    "### Agregacion de la columna de sentyment analysis"
   ]
  },
  {
   "cell_type": "code",
   "execution_count": 4,
   "metadata": {},
   "outputs": [
    {
     "name": "stderr",
     "output_type": "stream",
     "text": [
      "[nltk_data] Downloading package vader_lexicon to\n",
      "[nltk_data]     C:\\Users\\joaqu\\AppData\\Roaming\\nltk_data...\n",
      "[nltk_data]   Package vader_lexicon is already up-to-date!\n"
     ]
    }
   ],
   "source": [
    "\n",
    "#use lib nltk with vader_lexicon and sentiment for transform reviews in score_reviews\n",
    "import nltk\n",
    "nltk.download('vader_lexicon')\n",
    "from nltk.sentiment.vader import SentimentIntensityAnalyzer\n",
    "\n",
    "#Initialize the sentiment analyzer\n",
    "sia = SentimentIntensityAnalyzer()\n",
    "\n",
    "#Function to assign values according to the scale\n",
    "def get_sentiment_score(text):\n",
    "    if pd.isnull(text) or text == '':\n",
    "        return 1  # Return neutral if it is empty or NaN\n",
    "    elif isinstance(text, str):\n",
    "        sentiment = sia.polarity_scores(text)\n",
    "        compound_score = sentiment['compound']\n",
    "        if compound_score >= -0.05:\n",
    "            return 2  # Good score\n",
    "        elif compound_score <= -0.05:\n",
    "            return 0  # Bad score\n",
    "        else:\n",
    "            return 1\n",
    "    else:\n",
    "        return 1  # Return neutral for non-string values\n",
    "\n",
    "\n",
    "#Convert column 'review' to str\n",
    "df_user_reviews['review'] = df_user_reviews['review'].astype(str)\n",
    "\n",
    "#apply function get_sentiment_score to column 'review'\n",
    "df_user_reviews['sentiment_analysis'] = df_user_reviews['review'].apply(get_sentiment_score)\n",
    "\n",
    "#Eliminar la columna review ya que con la de sentiment_score no la necesitamos\n",
    "df_user_reviews = df_user_reviews.drop(columns=['review', 'funny', 'last_edited', 'helpful', 'user_url'], axis=1)\n",
    "\n"
   ]
  },
  {
   "cell_type": "code",
   "execution_count": 5,
   "metadata": {},
   "outputs": [],
   "source": [
    "\n",
    "# Define a function to remove the word \"Posted\" from a string\n",
    "def remove_posted_prefix(string):\n",
    "    return string.replace(\"Posted\", \"\")\n",
    "\n",
    "# Apply the 'remove_posted_prefix' function to the 'posted' column to clean the data\n",
    "df_user_reviews[\"posted\"] = df_user_reviews[\"posted\"].apply(remove_posted_prefix)\n",
    "\n",
    "# Filter the DataFrame to keep only the rows containing a comma in the 'posted' column\n",
    "df_user_reviews = df_user_reviews[df_user_reviews[\"posted\"].str.contains(\",\")]\n",
    "\n",
    "# Create a new 'year' column that extracts the year from the 'posted' column\n",
    "df_user_reviews[\"year\"] = df_user_reviews[\"posted\"].str.split(\", \").str[-1].str[:4]\n",
    "\n",
    "# Remove the original 'posted' column as we have extracted the relevant information\n",
    "df_user_reviews = df_user_reviews.drop(columns=['posted'], axis=1)\n",
    "\n"
   ]
  },
  {
   "cell_type": "code",
   "execution_count": 6,
   "metadata": {},
   "outputs": [],
   "source": [
    "df_user_reviews['item_id'] = df_user_reviews['item_id'].astype(int)"
   ]
  },
  {
   "cell_type": "markdown",
   "metadata": {},
   "source": [
    "## Nulos y Duplicados "
   ]
  },
  {
   "cell_type": "code",
   "execution_count": 7,
   "metadata": {},
   "outputs": [],
   "source": [
    "\n",
    "# Remove rows with missing values in the 'item_id' column\n",
    "df_user_reviews = df_user_reviews.dropna(subset=['item_id'])\n",
    "\n",
    "# Remove rows with missing values in the 'recommend' column\n",
    "df_user_reviews = df_user_reviews.dropna(subset=['recommend'])\n"
   ]
  },
  {
   "cell_type": "code",
   "execution_count": 8,
   "metadata": {},
   "outputs": [
    {
     "data": {
      "text/plain": [
       "688"
      ]
     },
     "execution_count": 8,
     "metadata": {},
     "output_type": "execute_result"
    }
   ],
   "source": [
    "df_user_reviews.duplicated().sum()"
   ]
  },
  {
   "cell_type": "code",
   "execution_count": 9,
   "metadata": {},
   "outputs": [],
   "source": [
    "df_user_reviews = df_user_reviews.drop_duplicates()"
   ]
  },
  {
   "cell_type": "code",
   "execution_count": 10,
   "metadata": {},
   "outputs": [
    {
     "data": {
      "text/plain": [
       "item_id               0\n",
       "recommend             0\n",
       "user_id               0\n",
       "sentiment_analysis    0\n",
       "year                  0\n",
       "dtype: int64"
      ]
     },
     "execution_count": 10,
     "metadata": {},
     "output_type": "execute_result"
    }
   ],
   "source": [
    "df_user_reviews.isnull().sum()"
   ]
  },
  {
   "cell_type": "code",
   "execution_count": 11,
   "metadata": {},
   "outputs": [
    {
     "data": {
      "text/html": [
       "<div>\n",
       "<style scoped>\n",
       "    .dataframe tbody tr th:only-of-type {\n",
       "        vertical-align: middle;\n",
       "    }\n",
       "\n",
       "    .dataframe tbody tr th {\n",
       "        vertical-align: top;\n",
       "    }\n",
       "\n",
       "    .dataframe thead th {\n",
       "        text-align: right;\n",
       "    }\n",
       "</style>\n",
       "<table border=\"1\" class=\"dataframe\">\n",
       "  <thead>\n",
       "    <tr style=\"text-align: right;\">\n",
       "      <th></th>\n",
       "      <th>item_id</th>\n",
       "      <th>recommend</th>\n",
       "      <th>user_id</th>\n",
       "      <th>sentiment_analysis</th>\n",
       "      <th>year</th>\n",
       "    </tr>\n",
       "  </thead>\n",
       "  <tbody>\n",
       "    <tr>\n",
       "      <th>0</th>\n",
       "      <td>1250</td>\n",
       "      <td>True</td>\n",
       "      <td>76561197970982479</td>\n",
       "      <td>2</td>\n",
       "      <td>2011</td>\n",
       "    </tr>\n",
       "    <tr>\n",
       "      <th>1</th>\n",
       "      <td>22200</td>\n",
       "      <td>True</td>\n",
       "      <td>76561197970982479</td>\n",
       "      <td>2</td>\n",
       "      <td>2011</td>\n",
       "    </tr>\n",
       "    <tr>\n",
       "      <th>2</th>\n",
       "      <td>43110</td>\n",
       "      <td>True</td>\n",
       "      <td>76561197970982479</td>\n",
       "      <td>2</td>\n",
       "      <td>2011</td>\n",
       "    </tr>\n",
       "    <tr>\n",
       "      <th>3</th>\n",
       "      <td>251610</td>\n",
       "      <td>True</td>\n",
       "      <td>js41637</td>\n",
       "      <td>2</td>\n",
       "      <td>2014</td>\n",
       "    </tr>\n",
       "    <tr>\n",
       "      <th>4</th>\n",
       "      <td>227300</td>\n",
       "      <td>True</td>\n",
       "      <td>js41637</td>\n",
       "      <td>2</td>\n",
       "      <td>2013</td>\n",
       "    </tr>\n",
       "    <tr>\n",
       "      <th>...</th>\n",
       "      <td>...</td>\n",
       "      <td>...</td>\n",
       "      <td>...</td>\n",
       "      <td>...</td>\n",
       "      <td>...</td>\n",
       "    </tr>\n",
       "    <tr>\n",
       "      <th>59252</th>\n",
       "      <td>730</td>\n",
       "      <td>True</td>\n",
       "      <td>wayfeng</td>\n",
       "      <td>2</td>\n",
       "      <td>2015</td>\n",
       "    </tr>\n",
       "    <tr>\n",
       "      <th>59255</th>\n",
       "      <td>253980</td>\n",
       "      <td>True</td>\n",
       "      <td>76561198251004808</td>\n",
       "      <td>2</td>\n",
       "      <td>2015</td>\n",
       "    </tr>\n",
       "    <tr>\n",
       "      <th>59265</th>\n",
       "      <td>730</td>\n",
       "      <td>True</td>\n",
       "      <td>72947282842</td>\n",
       "      <td>0</td>\n",
       "      <td>2015</td>\n",
       "    </tr>\n",
       "    <tr>\n",
       "      <th>59267</th>\n",
       "      <td>730</td>\n",
       "      <td>True</td>\n",
       "      <td>ApxLGhost</td>\n",
       "      <td>2</td>\n",
       "      <td>2015</td>\n",
       "    </tr>\n",
       "    <tr>\n",
       "      <th>59276</th>\n",
       "      <td>369200</td>\n",
       "      <td>True</td>\n",
       "      <td>76561198267374962</td>\n",
       "      <td>2</td>\n",
       "      <td>2015</td>\n",
       "    </tr>\n",
       "  </tbody>\n",
       "</table>\n",
       "<p>48498 rows × 5 columns</p>\n",
       "</div>"
      ],
      "text/plain": [
       "       item_id  recommend            user_id  sentiment_analysis  year\n",
       "0         1250       True  76561197970982479                   2  2011\n",
       "1        22200       True  76561197970982479                   2  2011\n",
       "2        43110       True  76561197970982479                   2  2011\n",
       "3       251610       True            js41637                   2  2014\n",
       "4       227300       True            js41637                   2  2013\n",
       "...        ...        ...                ...                 ...   ...\n",
       "59252      730       True            wayfeng                   2  2015\n",
       "59255   253980       True  76561198251004808                   2  2015\n",
       "59265      730       True        72947282842                   0  2015\n",
       "59267      730       True          ApxLGhost                   2  2015\n",
       "59276   369200       True  76561198267374962                   2  2015\n",
       "\n",
       "[48498 rows x 5 columns]"
      ]
     },
     "execution_count": 11,
     "metadata": {},
     "output_type": "execute_result"
    }
   ],
   "source": [
    "df_user_reviews"
   ]
  },
  {
   "cell_type": "markdown",
   "metadata": {},
   "source": [
    "## Exportar el dataframe a parquet"
   ]
  },
  {
   "cell_type": "code",
   "execution_count": 12,
   "metadata": {},
   "outputs": [],
   "source": [
    "df_user_reviews.to_parquet('Data/user_reviews.parquet')"
   ]
  },
  {
   "cell_type": "markdown",
   "metadata": {},
   "source": [
    "# Items"
   ]
  },
  {
   "cell_type": "code",
   "execution_count": 13,
   "metadata": {},
   "outputs": [],
   "source": [
    "# List to store JSON dictionaries from each line\n",
    "data_list = []\n",
    "\n",
    "# JSON file path\n",
    "file_path = 'Data/australian_users_items.json'\n",
    "\n",
    "# Open the file and process each line\n",
    "with open(file_path, 'r', encoding='utf-8') as file:\n",
    "    for line in file:\n",
    "        try:\n",
    "            # Use ast.literal_eval to convert the line into a dictionary\n",
    "            json_data = ast.literal_eval(line)\n",
    "            data_list.append(json_data)\n",
    "        except ValueError as e:\n",
    "            print(f\"Error in line: {line}\")\n",
    "            continue\n",
    "\n",
    "# Create a DataFrame from the list of dictionaries\n",
    "df_user_items = pd.DataFrame(data_list)\n"
   ]
  },
  {
   "cell_type": "markdown",
   "metadata": {},
   "source": [
    "## Limpieza y Normalizacion"
   ]
  },
  {
   "cell_type": "code",
   "execution_count": 14,
   "metadata": {},
   "outputs": [],
   "source": [
    "# We use json_normalize to extract nested information from the 'items' column\n",
    "\n",
    "df_user_items = pd.json_normalize(\n",
    "    df_user_items.to_dict('records'),  # Convert the DataFrame into a list of dictionary-like records\n",
    "    'items',                      # Name of the column with nested data\n",
    "    ['user_id', 'items_count', 'steam_id', 'user_url']  # Additional columns to be retained\n",
    ")\n"
   ]
  },
  {
   "cell_type": "code",
   "execution_count": 15,
   "metadata": {},
   "outputs": [],
   "source": [
    "#We drop useless columns\n",
    "df_user_items = df_user_items.drop(columns=['playtime_2weeks', 'item_name', 'items_count', 'steam_id', 'user_url'])"
   ]
  },
  {
   "cell_type": "code",
   "execution_count": 16,
   "metadata": {},
   "outputs": [],
   "source": [
    "# List of columns you want to convert to the integer data type\n",
    "columns_to_convert = ['item_id', 'playtime_forever']\n",
    "\n",
    "# Iterate through the columns and convert them to integers, handling errors\n",
    "for column in columns_to_convert:\n",
    "    df_user_items[column] = pd.to_numeric(df_user_items[column], errors='coerce')\n",
    "\n",
    "# Now, invalid values will be set as NaN in those columns\n",
    "\n",
    "\n"
   ]
  },
  {
   "cell_type": "markdown",
   "metadata": {},
   "source": [
    "## Duplicados y Nulos"
   ]
  },
  {
   "cell_type": "code",
   "execution_count": 17,
   "metadata": {},
   "outputs": [
    {
     "data": {
      "text/plain": [
       "59117"
      ]
     },
     "execution_count": 17,
     "metadata": {},
     "output_type": "execute_result"
    }
   ],
   "source": [
    "df_user_items.duplicated().sum()"
   ]
  },
  {
   "cell_type": "code",
   "execution_count": 18,
   "metadata": {},
   "outputs": [],
   "source": [
    "df_user_items = df_user_items.drop_duplicates()"
   ]
  },
  {
   "cell_type": "code",
   "execution_count": 19,
   "metadata": {},
   "outputs": [
    {
     "data": {
      "text/plain": [
       "item_id             0\n",
       "playtime_forever    0\n",
       "user_id             0\n",
       "dtype: int64"
      ]
     },
     "execution_count": 19,
     "metadata": {},
     "output_type": "execute_result"
    }
   ],
   "source": [
    "df_user_items.isnull().sum()"
   ]
  },
  {
   "cell_type": "code",
   "execution_count": 20,
   "metadata": {},
   "outputs": [],
   "source": [
    "df_user_items = df_user_items.dropna()"
   ]
  },
  {
   "cell_type": "markdown",
   "metadata": {},
   "source": [
    "## Exportar el dataframe  parquet"
   ]
  },
  {
   "cell_type": "code",
   "execution_count": 21,
   "metadata": {},
   "outputs": [],
   "source": [
    "df_user_items.to_parquet('Data/user_items.parquet')"
   ]
  },
  {
   "cell_type": "markdown",
   "metadata": {},
   "source": [
    "## Games"
   ]
  },
  {
   "cell_type": "code",
   "execution_count": 22,
   "metadata": {},
   "outputs": [],
   "source": [
    "# Read the file line by line and load each line as a JSON object\n",
    "with open('Data\\output_steam_games.json', 'r', encoding='utf-8') as file:\n",
    "    data = [json.loads(line) for line in file]\n",
    "\n",
    "# Convert the list of JSON objects into a DataFrame\n",
    "df_steam_games = pd.DataFrame(data)\n"
   ]
  },
  {
   "cell_type": "markdown",
   "metadata": {},
   "source": [
    "## Limpieza y Normalizacion"
   ]
  },
  {
   "cell_type": "code",
   "execution_count": 23,
   "metadata": {},
   "outputs": [],
   "source": [
    "df_steam_games = df_steam_games.rename(columns={'id': 'item_id'})\n"
   ]
  },
  {
   "cell_type": "code",
   "execution_count": 24,
   "metadata": {},
   "outputs": [],
   "source": [
    "def convert_to_0(valor):\n",
    "    try:\n",
    "        return float(valor)\n",
    "    except (ValueError, TypeError):\n",
    "        try:\n",
    "            # Intentar convertir a entero y luego a float con decimal 0\n",
    "            return float(int(valor))\n",
    "        except (ValueError, TypeError):\n",
    "            return 0.0\n",
    "\n",
    "df_steam_games['price'] = df_steam_games['price'].apply(convert_to_0)\n"
   ]
  },
  {
   "cell_type": "code",
   "execution_count": 25,
   "metadata": {},
   "outputs": [],
   "source": [
    "# Extract the release year from the 'release_date' column and create a new 'release_year' column\n",
    "df_steam_games['release_year'] = df_steam_games['release_date'].str.extract(r'(\\d{4})')\n"
   ]
  },
  {
   "cell_type": "markdown",
   "metadata": {},
   "source": []
  },
  {
   "cell_type": "code",
   "execution_count": 26,
   "metadata": {},
   "outputs": [],
   "source": [
    "# Drop the specified columns from the DataFrame\n",
    "df_steam_games = df_steam_games.drop(['metascore','user_id','steam_id','items', 'items_count','discount_price','publisher', 'release_date', 'title', 'url', 'tags', 'reviews_url', 'specs', 'early_access'], axis=1)\n"
   ]
  },
  {
   "cell_type": "code",
   "execution_count": 27,
   "metadata": {},
   "outputs": [],
   "source": [
    "# Lista de columnas a procesar\n",
    "cols = ['genres']\n",
    "\n",
    "# Itera a través de las columnas\n",
    "for i in cols:\n",
    "    # Convierte los valores de la columna en cadenas de texto\n",
    "    df_steam_games[i] = df_steam_games[i].astype(str)\n",
    "    \n",
    "    # Elimina los corchetes '[' y ']' de los valores de la columna\n",
    "    df_steam_games[i] = df_steam_games[i].str.replace('[', '').str.replace(']', '')"
   ]
  },
  {
   "cell_type": "markdown",
   "metadata": {},
   "source": [
    "## Nulos y Duplicados"
   ]
  },
  {
   "cell_type": "code",
   "execution_count": 28,
   "metadata": {},
   "outputs": [],
   "source": [
    "# Drop rows where all columns are null\n",
    "df_steam_games = df_steam_games.dropna(how=\"all\")\n",
    "\n",
    "# Drop rows where the 'developer' field is NaN\n",
    "df_steam_games = df_steam_games.dropna(subset=['developer'])\n",
    "\n",
    "# Drop rows where the 'price' field is NaN\n",
    "df_steam_games = df_steam_games.dropna(subset=['price'])\n",
    "\n",
    "# Drop rows where the 'release_year' field is NaN\n",
    "df_steam_games = df_steam_games.dropna(subset=['release_year'])\n",
    "\n",
    "df_steam_games = df_steam_games.dropna(subset=['item_id'])\n"
   ]
  },
  {
   "cell_type": "code",
   "execution_count": 29,
   "metadata": {},
   "outputs": [],
   "source": [
    "df_steam_games['item_id'] = df_steam_games['item_id'].astype(int)\n"
   ]
  },
  {
   "cell_type": "code",
   "execution_count": 30,
   "metadata": {},
   "outputs": [
    {
     "data": {
      "text/plain": [
       "False    27592\n",
       "True         1\n",
       "Name: count, dtype: int64"
      ]
     },
     "execution_count": 30,
     "metadata": {},
     "output_type": "execute_result"
    }
   ],
   "source": [
    "df_steam_games.duplicated().value_counts()"
   ]
  },
  {
   "cell_type": "code",
   "execution_count": 31,
   "metadata": {},
   "outputs": [],
   "source": [
    "df_steam_games = df_steam_games.drop_duplicates()"
   ]
  },
  {
   "cell_type": "code",
   "execution_count": 32,
   "metadata": {},
   "outputs": [
    {
     "data": {
      "text/html": [
       "<div>\n",
       "<style scoped>\n",
       "    .dataframe tbody tr th:only-of-type {\n",
       "        vertical-align: middle;\n",
       "    }\n",
       "\n",
       "    .dataframe tbody tr th {\n",
       "        vertical-align: top;\n",
       "    }\n",
       "\n",
       "    .dataframe thead th {\n",
       "        text-align: right;\n",
       "    }\n",
       "</style>\n",
       "<table border=\"1\" class=\"dataframe\">\n",
       "  <thead>\n",
       "    <tr style=\"text-align: right;\">\n",
       "      <th></th>\n",
       "      <th>genres</th>\n",
       "      <th>app_name</th>\n",
       "      <th>price</th>\n",
       "      <th>item_id</th>\n",
       "      <th>developer</th>\n",
       "      <th>release_year</th>\n",
       "    </tr>\n",
       "  </thead>\n",
       "  <tbody>\n",
       "    <tr>\n",
       "      <th>88310</th>\n",
       "      <td>'Action', 'Casual', 'Indie', 'Simulation', 'St...</td>\n",
       "      <td>Lost Summoner Kitty</td>\n",
       "      <td>4.99</td>\n",
       "      <td>761140</td>\n",
       "      <td>Kotoshiro</td>\n",
       "      <td>2018</td>\n",
       "    </tr>\n",
       "    <tr>\n",
       "      <th>88311</th>\n",
       "      <td>'Free to Play', 'Indie', 'RPG', 'Strategy'</td>\n",
       "      <td>Ironbound</td>\n",
       "      <td>0.00</td>\n",
       "      <td>643980</td>\n",
       "      <td>Secret Level SRL</td>\n",
       "      <td>2018</td>\n",
       "    </tr>\n",
       "    <tr>\n",
       "      <th>88312</th>\n",
       "      <td>'Casual', 'Free to Play', 'Indie', 'Simulation...</td>\n",
       "      <td>Real Pool 3D - Poolians</td>\n",
       "      <td>0.00</td>\n",
       "      <td>670290</td>\n",
       "      <td>Poolians.com</td>\n",
       "      <td>2017</td>\n",
       "    </tr>\n",
       "    <tr>\n",
       "      <th>88313</th>\n",
       "      <td>'Action', 'Adventure', 'Casual'</td>\n",
       "      <td>弹炸人2222</td>\n",
       "      <td>0.99</td>\n",
       "      <td>767400</td>\n",
       "      <td>彼岸领域</td>\n",
       "      <td>2017</td>\n",
       "    </tr>\n",
       "    <tr>\n",
       "      <th>88315</th>\n",
       "      <td>'Action', 'Adventure', 'Simulation'</td>\n",
       "      <td>Battle Royale Trainer</td>\n",
       "      <td>3.99</td>\n",
       "      <td>772540</td>\n",
       "      <td>Trickjump Games Ltd</td>\n",
       "      <td>2018</td>\n",
       "    </tr>\n",
       "    <tr>\n",
       "      <th>...</th>\n",
       "      <td>...</td>\n",
       "      <td>...</td>\n",
       "      <td>...</td>\n",
       "      <td>...</td>\n",
       "      <td>...</td>\n",
       "      <td>...</td>\n",
       "    </tr>\n",
       "    <tr>\n",
       "      <th>120439</th>\n",
       "      <td>'Action', 'Adventure', 'Casual', 'Indie'</td>\n",
       "      <td>Kebab it Up!</td>\n",
       "      <td>1.99</td>\n",
       "      <td>745400</td>\n",
       "      <td>Bidoniera Games</td>\n",
       "      <td>2018</td>\n",
       "    </tr>\n",
       "    <tr>\n",
       "      <th>120440</th>\n",
       "      <td>'Casual', 'Indie', 'Simulation', 'Strategy'</td>\n",
       "      <td>Colony On Mars</td>\n",
       "      <td>1.99</td>\n",
       "      <td>773640</td>\n",
       "      <td>Nikita \"Ghost_RUS\"</td>\n",
       "      <td>2018</td>\n",
       "    </tr>\n",
       "    <tr>\n",
       "      <th>120441</th>\n",
       "      <td>'Casual', 'Indie', 'Strategy'</td>\n",
       "      <td>LOGistICAL: South Africa</td>\n",
       "      <td>4.99</td>\n",
       "      <td>733530</td>\n",
       "      <td>Sacada</td>\n",
       "      <td>2018</td>\n",
       "    </tr>\n",
       "    <tr>\n",
       "      <th>120442</th>\n",
       "      <td>'Indie', 'Racing', 'Simulation'</td>\n",
       "      <td>Russian Roads</td>\n",
       "      <td>1.99</td>\n",
       "      <td>610660</td>\n",
       "      <td>Laush Dmitriy Sergeevich</td>\n",
       "      <td>2018</td>\n",
       "    </tr>\n",
       "    <tr>\n",
       "      <th>120443</th>\n",
       "      <td>'Casual', 'Indie'</td>\n",
       "      <td>EXIT 2 - Directions</td>\n",
       "      <td>4.99</td>\n",
       "      <td>658870</td>\n",
       "      <td>xropi,stev3ns</td>\n",
       "      <td>2017</td>\n",
       "    </tr>\n",
       "  </tbody>\n",
       "</table>\n",
       "<p>27592 rows × 6 columns</p>\n",
       "</div>"
      ],
      "text/plain": [
       "                                                   genres  \\\n",
       "88310   'Action', 'Casual', 'Indie', 'Simulation', 'St...   \n",
       "88311          'Free to Play', 'Indie', 'RPG', 'Strategy'   \n",
       "88312   'Casual', 'Free to Play', 'Indie', 'Simulation...   \n",
       "88313                     'Action', 'Adventure', 'Casual'   \n",
       "88315                 'Action', 'Adventure', 'Simulation'   \n",
       "...                                                   ...   \n",
       "120439           'Action', 'Adventure', 'Casual', 'Indie'   \n",
       "120440        'Casual', 'Indie', 'Simulation', 'Strategy'   \n",
       "120441                      'Casual', 'Indie', 'Strategy'   \n",
       "120442                    'Indie', 'Racing', 'Simulation'   \n",
       "120443                                  'Casual', 'Indie'   \n",
       "\n",
       "                        app_name  price  item_id                 developer  \\\n",
       "88310        Lost Summoner Kitty   4.99   761140                 Kotoshiro   \n",
       "88311                  Ironbound   0.00   643980          Secret Level SRL   \n",
       "88312    Real Pool 3D - Poolians   0.00   670290              Poolians.com   \n",
       "88313                    弹炸人2222   0.99   767400                      彼岸领域   \n",
       "88315      Battle Royale Trainer   3.99   772540       Trickjump Games Ltd   \n",
       "...                          ...    ...      ...                       ...   \n",
       "120439              Kebab it Up!   1.99   745400           Bidoniera Games   \n",
       "120440            Colony On Mars   1.99   773640        Nikita \"Ghost_RUS\"   \n",
       "120441  LOGistICAL: South Africa   4.99   733530                    Sacada   \n",
       "120442             Russian Roads   1.99   610660  Laush Dmitriy Sergeevich   \n",
       "120443       EXIT 2 - Directions   4.99   658870             xropi,stev3ns   \n",
       "\n",
       "       release_year  \n",
       "88310          2018  \n",
       "88311          2018  \n",
       "88312          2017  \n",
       "88313          2017  \n",
       "88315          2018  \n",
       "...             ...  \n",
       "120439         2018  \n",
       "120440         2018  \n",
       "120441         2018  \n",
       "120442         2018  \n",
       "120443         2017  \n",
       "\n",
       "[27592 rows x 6 columns]"
      ]
     },
     "execution_count": 32,
     "metadata": {},
     "output_type": "execute_result"
    }
   ],
   "source": [
    "df_steam_games"
   ]
  },
  {
   "cell_type": "markdown",
   "metadata": {},
   "source": [
    "##  Exportar el dataframe a parquet"
   ]
  },
  {
   "cell_type": "code",
   "execution_count": 33,
   "metadata": {},
   "outputs": [],
   "source": [
    "df_steam_games.to_parquet('Data/steam_games.parquet')"
   ]
  },
  {
   "cell_type": "markdown",
   "metadata": {},
   "source": [
    "# First Function"
   ]
  },
  {
   "cell_type": "code",
   "execution_count": 34,
   "metadata": {},
   "outputs": [],
   "source": [
    "def developer(developer):\n",
    "    df_developer = df_steam_games[df_steam_games[\"developer\"] == developer]\n",
    "    items_per_year = df_developer.groupby(\"release_year\")[\"item_id\"].count()\n",
    "\n",
    "    # Filter the developer's DataFrame for free games (price zero):\n",
    "    df_dev_free = df_developer[df_developer[\"price\"] == 0]\n",
    "\n",
    "    # Get the number of free items per year\n",
    "    free_items = df_dev_free.groupby(\"release_year\")[\"price\"].count()  # Number of free items per year\n",
    "\n",
    "    # Calculate the percentage of free content per year\n",
    "    free_proportion = round((free_items / items_per_year) * 100, 2)\n",
    "\n",
    "    # Rename the series to merge them into a DataFrame:\n",
    "    items_per_year.name = \"Number of Items\"\n",
    "    free_proportion.name = \"Free Content\"\n",
    "\n",
    "    df1 = pd.merge(items_per_year, free_proportion, on=\"release_year\").reset_index()\n",
    "    df1 = df1.fillna(0)\n",
    "\n",
    "    df1 = df1.rename(columns={\"release_year\": \"Year\"})\n",
    "\n",
    "    # Format the Free Content column:\n",
    "    df1[\"Free Content\"] = df1[\"Free Content\"].apply(lambda x: f\"{x}%\")\n",
    "\n",
    "    # Convert the DataFrame to a dictionary\n",
    "    dictionary = df1.to_dict(orient=\"records\")\n",
    "    del df_developer, items_per_year, df_dev_free, free_items, free_proportion, df1\n",
    "    return dictionary\n",
    "\n"
   ]
  },
  {
   "cell_type": "markdown",
   "metadata": {},
   "source": [
    "# Second Function"
   ]
  },
  {
   "cell_type": "code",
   "execution_count": 35,
   "metadata": {},
   "outputs": [],
   "source": [
    "df_reviews_games = df_user_reviews.merge(df_steam_games[['item_id', 'price']])"
   ]
  },
  {
   "cell_type": "code",
   "execution_count": 36,
   "metadata": {},
   "outputs": [],
   "source": [
    "def userdata(user_id):\n",
    "    # Filter the data for the specified user\n",
    "    user_data = df_reviews_games[df_reviews_games['user_id'] == user_id]\n",
    "\n",
    "    # Calculate the amount of money spent by the user\n",
    "    spent_money = user_data['price'].sum()\n",
    "\n",
    "    # Calculate the recommendation percentage based on reviews.recommend\n",
    "    recommendations = (user_data['recommend'] == True).sum()\n",
    "    recommendation_percentage = recommendations / len(user_data) * 100\n",
    "\n",
    "    # Calculate the number of items\n",
    "    number_of_items = user_data['item_id'].nunique()\n",
    "\n",
    "    # Create a dictionary with the results\n",
    "    results = {\n",
    "        'Amount of money spent': round(spent_money, 2),\n",
    "        'Recommendation Percentage': recommendation_percentage,\n",
    "        'Number of items': number_of_items\n",
    "    }\n",
    "    return results\n",
    "\n"
   ]
  },
  {
   "cell_type": "code",
   "execution_count": 37,
   "metadata": {},
   "outputs": [
    {
     "data": {
      "text/plain": [
       "{'Amount of money spent': 89.95,\n",
       " 'Recommendation Percentage': 100.0,\n",
       " 'Number of items': 5}"
      ]
     },
     "execution_count": 37,
     "metadata": {},
     "output_type": "execute_result"
    }
   ],
   "source": [
    "userdata('Wackky')"
   ]
  },
  {
   "cell_type": "markdown",
   "metadata": {},
   "source": [
    "# Third Function"
   ]
  },
  {
   "cell_type": "code",
   "execution_count": 38,
   "metadata": {},
   "outputs": [],
   "source": [
    "def UserForGenre(genre):\n",
    "    \n",
    "    # Filter games by the specified genre\n",
    "    games_filtered = df_steam_games[df_steam_games['genres'].str.contains(genre, case=False, na=False)]\n",
    "\n",
    "    # Merge df_user_items and df_games based on item_id and id\n",
    "    merged_df = pd.merge(df_user_items, games_filtered, left_on='item_id', right_on='item_id', how='inner')\n",
    "\n",
    "    # Group by year and user, calculate the playtime by user per year\n",
    "    grouped = merged_df.groupby(['release_year', 'user_id'])['playtime_forever'].sum().reset_index()\n",
    "\n",
    "    if len(grouped) > 0:\n",
    "        # Find the user with the most playtime for the given genre\n",
    "        max_user = grouped[grouped['playtime_forever'] == grouped.groupby('release_year')['playtime_forever'].transform('max')]['user_id'].values[0]\n",
    "    else:\n",
    "        return {\"error\": \"No data available for the specified genre\"}\n",
    "\n",
    "    # Filter the data for the user with the most playtime\n",
    "    user_data = grouped[grouped['user_id'] == max_user]\n",
    "\n",
    "    # Remove years with 0 playtime\n",
    "    user_data = user_data[user_data['playtime_forever'] > 0]\n",
    "\n",
    "    # Sort years in descending order\n",
    "    user_data = user_data.sort_values(by='release_year', ascending=False)\n",
    "\n",
    "    # Convert playtime to integers\n",
    "    user_data['playtime_forever'] = user_data['playtime_forever'].astype(int)\n",
    "\n",
    "    # Create a list of accumulated playtime by year\n",
    "    hours_by_year = [{'Year': int(year), 'Hours': int(hours)} for year, hours in zip(user_data['release_year'], user_data['playtime_forever'])]\n",
    "\n",
    "    result = {\n",
    "        \"User with the Most Playtime for Genre \" + genre: max_user,\n",
    "        \"Playtime\": hours_by_year\n",
    "    }\n",
    "\n",
    "    return result\n"
   ]
  },
  {
   "cell_type": "markdown",
   "metadata": {},
   "source": [
    "# Fourth Function"
   ]
  },
  {
   "cell_type": "code",
   "execution_count": 39,
   "metadata": {},
   "outputs": [],
   "source": [
    "df_games_reviews = pd.merge(df_steam_games, df_user_reviews, how=\"inner\", left_on=\"item_id\", right_on=\"item_id\")\n",
    "df_games_reviews = df_games_reviews.drop(['price', 'item_id', 'release_year', 'user_id', 'item_id', 'sentiment_analysis'], axis=1)"
   ]
  },
  {
   "cell_type": "code",
   "execution_count": 40,
   "metadata": {},
   "outputs": [],
   "source": [
    "def best_developer_year(year):\n",
    "    df = df_games_reviews\n",
    "    \n",
    "    # Convert columns to the appropriate data types\n",
    "    df[\"recommend\"] = df[\"recommend\"].astype(int)\n",
    "    df[\"year\"] = df[\"year\"].astype(int)\n",
    "    \n",
    "    # Perform groupby and apply an aggregation function\n",
    "    df = df.groupby(['developer', 'year'])['recommend'].sum().reset_index()\n",
    "\n",
    "    # Rename the resulting column\n",
    "    df = df.rename(columns={'recommend': 'total_true'})\n",
    "    \n",
    "    # Filter the data for the specified year\n",
    "    filtered_df = df[df['year'] == year]\n",
    "    if filtered_df.empty:\n",
    "        return \"No data found for that year\"\n",
    "\n",
    "    # Group by developer and sum recommended games\n",
    "    developer_grouped = filtered_df.groupby('developer')['total_true'].sum().reset_index()\n",
    "\n",
    "    # Sort in descending order\n",
    "    developer_grouped = developer_grouped.sort_values(by='total_true', ascending=False)\n",
    "\n",
    "    # Add the position rank\n",
    "    developer_grouped['Position'] = range(1, len(developer_grouped) + 1)\n",
    "\n",
    "    # Select the top 3 developers\n",
    "    top_developers = developer_grouped.head(3)\n",
    "\n",
    "    # Create the result in the desired format\n",
    "    result = [{\"Position {}: {}\".format(row['Position'], row['developer']): row['total_true']} for i, row in top_developers.iterrows()]\n",
    "\n",
    "    return result"
   ]
  },
  {
   "cell_type": "markdown",
   "metadata": {},
   "source": [
    "# Fifth Function"
   ]
  },
  {
   "cell_type": "code",
   "execution_count": 41,
   "metadata": {},
   "outputs": [],
   "source": [
    "df_games_reviews = pd.merge(df_steam_games, df_user_reviews, how=\"inner\", left_on=\"item_id\", right_on=\"item_id\")"
   ]
  },
  {
   "cell_type": "code",
   "execution_count": 42,
   "metadata": {},
   "outputs": [],
   "source": [
    "def developer_reviews_analysis(developer):\n",
    "    df = df_games_reviews\n",
    "    df = df.drop(['item_id', 'release_year', 'price'], axis= 1)\n",
    "    # Filtramos las reseñas del desarrollador especificado\n",
    "    df = df[df[\"developer\"] == developer]\n",
    "\n",
    "    # Contamos el número de reseñas positivas y negativas\n",
    "    count_positive = df[df[\"sentiment_analysis\"] == 2].shape[0]\n",
    "    count_negative = df[df[\"sentiment_analysis\"] == 0].shape[0]\n",
    "\n",
    "    # Devolvemos el resultado\n",
    "    return {\n",
    "        \"developer\": developer,\n",
    "        \"negative\": count_negative,\n",
    "        \"positive\": count_positive,\n",
    "    }\n"
   ]
  },
  {
   "cell_type": "markdown",
   "metadata": {},
   "source": [
    "# MACHINE LEARNING\n"
   ]
  },
  {
   "cell_type": "markdown",
   "metadata": {},
   "source": [
    "### Preparamos el parquet de steam_games para ML"
   ]
  },
  {
   "cell_type": "code",
   "execution_count": 43,
   "metadata": {},
   "outputs": [],
   "source": [
    "# We create dummy variables for each genre\n",
    "dummy_genres = df_steam_games['genres'].str.get_dummies(', ')               \n",
    "\n",
    "df_steam_games_ml = pd.concat([df_steam_games, dummy_genres], axis=1)  "
   ]
  },
  {
   "cell_type": "code",
   "execution_count": 44,
   "metadata": {},
   "outputs": [
    {
     "name": "stdout",
     "output_type": "stream",
     "text": [
      "<class 'pandas.core.frame.DataFrame'>\n",
      "Index: 27592 entries, 88310 to 120443\n",
      "Data columns (total 29 columns):\n",
      " #   Column                       Non-Null Count  Dtype  \n",
      "---  ------                       --------------  -----  \n",
      " 0   genres                       27592 non-null  object \n",
      " 1   app_name                     27592 non-null  object \n",
      " 2   price                        27592 non-null  float64\n",
      " 3   item_id                      27592 non-null  int32  \n",
      " 4   developer                    27592 non-null  object \n",
      " 5   release_year                 27592 non-null  object \n",
      " 6   'Accounting'                 27592 non-null  int64  \n",
      " 7   'Action'                     27592 non-null  int64  \n",
      " 8   'Adventure'                  27592 non-null  int64  \n",
      " 9   'Animation &amp; Modeling'   27592 non-null  int64  \n",
      " 10  'Audio Production'           27592 non-null  int64  \n",
      " 11  'Casual'                     27592 non-null  int64  \n",
      " 12  'Design &amp; Illustration'  27592 non-null  int64  \n",
      " 13  'Early Access'               27592 non-null  int64  \n",
      " 14  'Education'                  27592 non-null  int64  \n",
      " 15  'Free to Play'               27592 non-null  int64  \n",
      " 16  'Indie'                      27592 non-null  int64  \n",
      " 17  'Massively Multiplayer'      27592 non-null  int64  \n",
      " 18  'Photo Editing'              27592 non-null  int64  \n",
      " 19  'RPG'                        27592 non-null  int64  \n",
      " 20  'Racing'                     27592 non-null  int64  \n",
      " 21  'Simulation'                 27592 non-null  int64  \n",
      " 22  'Software Training'          27592 non-null  int64  \n",
      " 23  'Sports'                     27592 non-null  int64  \n",
      " 24  'Strategy'                   27592 non-null  int64  \n",
      " 25  'Utilities'                  27592 non-null  int64  \n",
      " 26  'Video Production'           27592 non-null  int64  \n",
      " 27  'Web Publishing'             27592 non-null  int64  \n",
      " 28  nan                          27592 non-null  int64  \n",
      "dtypes: float64(1), int32(1), int64(23), object(4)\n",
      "memory usage: 6.2+ MB\n"
     ]
    }
   ],
   "source": [
    "df_steam_games_ml.info()"
   ]
  },
  {
   "cell_type": "code",
   "execution_count": 45,
   "metadata": {},
   "outputs": [],
   "source": [
    "df_steam_games_ml = df_steam_games_ml.drop(['nan','genres'],axis=1)"
   ]
  },
  {
   "cell_type": "code",
   "execution_count": 46,
   "metadata": {},
   "outputs": [
    {
     "data": {
      "text/plain": [
       "app_name                       0\n",
       "price                          0\n",
       "item_id                        0\n",
       "developer                      0\n",
       "release_year                   0\n",
       "'Accounting'                   0\n",
       "'Action'                       0\n",
       "'Adventure'                    0\n",
       "'Animation &amp; Modeling'     0\n",
       "'Audio Production'             0\n",
       "'Casual'                       0\n",
       "'Design &amp; Illustration'    0\n",
       "'Early Access'                 0\n",
       "'Education'                    0\n",
       "'Free to Play'                 0\n",
       "'Indie'                        0\n",
       "'Massively Multiplayer'        0\n",
       "'Photo Editing'                0\n",
       "'RPG'                          0\n",
       "'Racing'                       0\n",
       "'Simulation'                   0\n",
       "'Software Training'            0\n",
       "'Sports'                       0\n",
       "'Strategy'                     0\n",
       "'Utilities'                    0\n",
       "'Video Production'             0\n",
       "'Web Publishing'               0\n",
       "dtype: int64"
      ]
     },
     "execution_count": 46,
     "metadata": {},
     "output_type": "execute_result"
    }
   ],
   "source": [
    "df_steam_games_ml.isna().sum()"
   ]
  },
  {
   "cell_type": "code",
   "execution_count": 47,
   "metadata": {},
   "outputs": [],
   "source": [
    "df_steam_games_ml.to_parquet('Data/steam_games_ml.parquet')"
   ]
  },
  {
   "cell_type": "code",
   "execution_count": null,
   "metadata": {},
   "outputs": [],
   "source": []
  },
  {
   "cell_type": "code",
   "execution_count": null,
   "metadata": {},
   "outputs": [],
   "source": []
  }
 ],
 "metadata": {
  "kernelspec": {
   "display_name": "Python 3",
   "language": "python",
   "name": "python3"
  },
  "language_info": {
   "codemirror_mode": {
    "name": "ipython",
    "version": 3
   },
   "file_extension": ".py",
   "mimetype": "text/x-python",
   "name": "python",
   "nbconvert_exporter": "python",
   "pygments_lexer": "ipython3",
   "version": "3.11.3"
  }
 },
 "nbformat": 4,
 "nbformat_minor": 2
}
