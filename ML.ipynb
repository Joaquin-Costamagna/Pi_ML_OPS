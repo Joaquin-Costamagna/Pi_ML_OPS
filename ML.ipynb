{
 "cells": [
  {
   "cell_type": "code",
   "execution_count": 170,
   "metadata": {},
   "outputs": [],
   "source": [
    "from surprise import Dataset\n",
    "import pandas as pd\n",
    "from surprise import Dataset, Reader\n",
    "from surprise import Reader\n",
    "from surprise import SVD\n",
    "from surprise.model_selection import train_test_split\n",
    "from surprise import accuracy\n",
    "from surprise.model_selection import cross_validate, GridSearchCV\n",
    "import pickle\n",
    "import pyarrow.parquet as pq\n",
    "import pyarrow as pa"
   ]
  },
  {
   "cell_type": "code",
   "execution_count": 171,
   "metadata": {},
   "outputs": [],
   "source": [
    "df_steam_games_ml = pd.read_parquet('Data/steam_games_ml.parquet')\n",
    "df_user_reviews_ml = pd.read_parquet('Data/user_reviews.parquet')"
   ]
  },
  {
   "cell_type": "code",
   "execution_count": 172,
   "metadata": {},
   "outputs": [],
   "source": [
    "df = pd.merge(df_user_reviews_ml[['item_id','user_id','recommend','sentiment_analysis']], df_steam_games_ml[['item_id','app_name']], left_on='item_id', right_on='item_id')\n"
   ]
  },
  {
   "cell_type": "code",
   "execution_count": 173,
   "metadata": {},
   "outputs": [
    {
     "data": {
      "text/html": [
       "<div>\n",
       "<style scoped>\n",
       "    .dataframe tbody tr th:only-of-type {\n",
       "        vertical-align: middle;\n",
       "    }\n",
       "\n",
       "    .dataframe tbody tr th {\n",
       "        vertical-align: top;\n",
       "    }\n",
       "\n",
       "    .dataframe thead th {\n",
       "        text-align: right;\n",
       "    }\n",
       "</style>\n",
       "<table border=\"1\" class=\"dataframe\">\n",
       "  <thead>\n",
       "    <tr style=\"text-align: right;\">\n",
       "      <th></th>\n",
       "      <th>item_id</th>\n",
       "      <th>user_id</th>\n",
       "      <th>recommend</th>\n",
       "      <th>sentiment_analysis</th>\n",
       "      <th>app_name</th>\n",
       "    </tr>\n",
       "  </thead>\n",
       "  <tbody>\n",
       "    <tr>\n",
       "      <th>0</th>\n",
       "      <td>1250</td>\n",
       "      <td>76561197970982479</td>\n",
       "      <td>True</td>\n",
       "      <td>2</td>\n",
       "      <td>Killing Floor</td>\n",
       "    </tr>\n",
       "    <tr>\n",
       "      <th>1</th>\n",
       "      <td>1250</td>\n",
       "      <td>death-hunter</td>\n",
       "      <td>True</td>\n",
       "      <td>2</td>\n",
       "      <td>Killing Floor</td>\n",
       "    </tr>\n",
       "    <tr>\n",
       "      <th>2</th>\n",
       "      <td>1250</td>\n",
       "      <td>DJKamBer</td>\n",
       "      <td>True</td>\n",
       "      <td>0</td>\n",
       "      <td>Killing Floor</td>\n",
       "    </tr>\n",
       "    <tr>\n",
       "      <th>3</th>\n",
       "      <td>1250</td>\n",
       "      <td>diego9031</td>\n",
       "      <td>True</td>\n",
       "      <td>2</td>\n",
       "      <td>Killing Floor</td>\n",
       "    </tr>\n",
       "    <tr>\n",
       "      <th>4</th>\n",
       "      <td>1250</td>\n",
       "      <td>76561198081962345</td>\n",
       "      <td>True</td>\n",
       "      <td>2</td>\n",
       "      <td>Killing Floor</td>\n",
       "    </tr>\n",
       "    <tr>\n",
       "      <th>...</th>\n",
       "      <td>...</td>\n",
       "      <td>...</td>\n",
       "      <td>...</td>\n",
       "      <td>...</td>\n",
       "      <td>...</td>\n",
       "    </tr>\n",
       "    <tr>\n",
       "      <th>40414</th>\n",
       "      <td>367780</td>\n",
       "      <td>laislabonita75</td>\n",
       "      <td>True</td>\n",
       "      <td>2</td>\n",
       "      <td>Aero's Quest</td>\n",
       "    </tr>\n",
       "    <tr>\n",
       "      <th>40415</th>\n",
       "      <td>367780</td>\n",
       "      <td>evilindiegaming</td>\n",
       "      <td>True</td>\n",
       "      <td>2</td>\n",
       "      <td>Aero's Quest</td>\n",
       "    </tr>\n",
       "    <tr>\n",
       "      <th>40416</th>\n",
       "      <td>305920</td>\n",
       "      <td>laislabonita75</td>\n",
       "      <td>False</td>\n",
       "      <td>0</td>\n",
       "      <td>Another Perspective</td>\n",
       "    </tr>\n",
       "    <tr>\n",
       "      <th>40417</th>\n",
       "      <td>306040</td>\n",
       "      <td>Gamer0009</td>\n",
       "      <td>True</td>\n",
       "      <td>2</td>\n",
       "      <td>The Howler</td>\n",
       "    </tr>\n",
       "    <tr>\n",
       "      <th>40418</th>\n",
       "      <td>307130</td>\n",
       "      <td>llDracuwulf</td>\n",
       "      <td>True</td>\n",
       "      <td>2</td>\n",
       "      <td>Asteria</td>\n",
       "    </tr>\n",
       "  </tbody>\n",
       "</table>\n",
       "<p>40419 rows × 5 columns</p>\n",
       "</div>"
      ],
      "text/plain": [
       "       item_id            user_id  recommend  sentiment_analysis  \\\n",
       "0         1250  76561197970982479       True                   2   \n",
       "1         1250       death-hunter       True                   2   \n",
       "2         1250           DJKamBer       True                   0   \n",
       "3         1250          diego9031       True                   2   \n",
       "4         1250  76561198081962345       True                   2   \n",
       "...        ...                ...        ...                 ...   \n",
       "40414   367780     laislabonita75       True                   2   \n",
       "40415   367780    evilindiegaming       True                   2   \n",
       "40416   305920     laislabonita75      False                   0   \n",
       "40417   306040          Gamer0009       True                   2   \n",
       "40418   307130        llDracuwulf       True                   2   \n",
       "\n",
       "                  app_name  \n",
       "0            Killing Floor  \n",
       "1            Killing Floor  \n",
       "2            Killing Floor  \n",
       "3            Killing Floor  \n",
       "4            Killing Floor  \n",
       "...                    ...  \n",
       "40414         Aero's Quest  \n",
       "40415         Aero's Quest  \n",
       "40416  Another Perspective  \n",
       "40417           The Howler  \n",
       "40418              Asteria  \n",
       "\n",
       "[40419 rows x 5 columns]"
      ]
     },
     "execution_count": 173,
     "metadata": {},
     "output_type": "execute_result"
    }
   ],
   "source": [
    "df"
   ]
  },
  {
   "cell_type": "code",
   "execution_count": 174,
   "metadata": {},
   "outputs": [
    {
     "name": "stderr",
     "output_type": "stream",
     "text": [
      "C:\\Users\\joaqu\\AppData\\Local\\Temp\\ipykernel_7312\\1732854565.py:2: FutureWarning: Series.__getitem__ treating keys as positions is deprecated. In a future version, integer keys will always be treated as labels (consistent with DataFrame behavior). To access a value by position, use `ser.iloc[pos]`\n",
      "  if (row[2] == True) and (row[3] == 2):\n",
      "C:\\Users\\joaqu\\AppData\\Local\\Temp\\ipykernel_7312\\1732854565.py:2: FutureWarning: Series.__getitem__ treating keys as positions is deprecated. In a future version, integer keys will always be treated as labels (consistent with DataFrame behavior). To access a value by position, use `ser.iloc[pos]`\n",
      "  if (row[2] == True) and (row[3] == 2):\n",
      "C:\\Users\\joaqu\\AppData\\Local\\Temp\\ipykernel_7312\\1732854565.py:5: FutureWarning: Series.__getitem__ treating keys as positions is deprecated. In a future version, integer keys will always be treated as labels (consistent with DataFrame behavior). To access a value by position, use `ser.iloc[pos]`\n",
      "  elif (row[2] == True) and (row[3] == 1):\n",
      "C:\\Users\\joaqu\\AppData\\Local\\Temp\\ipykernel_7312\\1732854565.py:8: FutureWarning: Series.__getitem__ treating keys as positions is deprecated. In a future version, integer keys will always be treated as labels (consistent with DataFrame behavior). To access a value by position, use `ser.iloc[pos]`\n",
      "  elif (row[2] == True) and (row[3] == 0):\n",
      "C:\\Users\\joaqu\\AppData\\Local\\Temp\\ipykernel_7312\\1732854565.py:11: FutureWarning: Series.__getitem__ treating keys as positions is deprecated. In a future version, integer keys will always be treated as labels (consistent with DataFrame behavior). To access a value by position, use `ser.iloc[pos]`\n",
      "  elif (row[2] == False) and (row[3] == 2):\n",
      "C:\\Users\\joaqu\\AppData\\Local\\Temp\\ipykernel_7312\\1732854565.py:14: FutureWarning: Series.__getitem__ treating keys as positions is deprecated. In a future version, integer keys will always be treated as labels (consistent with DataFrame behavior). To access a value by position, use `ser.iloc[pos]`\n",
      "  elif (row[2] == False) and (row[3] == 1):\n",
      "C:\\Users\\joaqu\\AppData\\Local\\Temp\\ipykernel_7312\\1732854565.py:17: FutureWarning: Series.__getitem__ treating keys as positions is deprecated. In a future version, integer keys will always be treated as labels (consistent with DataFrame behavior). To access a value by position, use `ser.iloc[pos]`\n",
      "  elif (row[2] == False) and (row[3] == 0):\n"
     ]
    }
   ],
   "source": [
    "for index, row in df.iterrows():\n",
    "    if (row[2] == True) and (row[3] == 2):\n",
    "        df.loc[index, 'rating'] = 5.0\n",
    "        \n",
    "    elif (row[2] == True) and (row[3] == 1):\n",
    "        df.loc[index, 'rating'] = 4.0\n",
    "        \n",
    "    elif (row[2] == True) and (row[3] == 0):\n",
    "        df.loc[index, 'rating'] = 3.0\n",
    "        \n",
    "    elif (row[2] == False) and (row[3] == 2):\n",
    "        df.loc[index, 'rating'] = 2.0\n",
    "        \n",
    "    elif (row[2] == False) and (row[3] == 1):\n",
    "        df.loc[index, 'rating'] = 1.0\n",
    "        \n",
    "    elif (row[2] == False) and (row[3] == 0):\n",
    "        df.loc[index, 'rating'] = 0.0\n"
   ]
  },
  {
   "cell_type": "code",
   "execution_count": 175,
   "metadata": {},
   "outputs": [
    {
     "data": {
      "image/png": "[encoded data removed]",
      "text/plain": [
       "<Figure size 800x600 with 1 Axes>"
      ]
     },
     "metadata": {},
     "output_type": "display_data"
    }
   ],
   "source": [
    "import matplotlib.pyplot as plt\n",
    "import pandas as pd\n",
    "from matplotlib.colors import LinearSegmentedColormap\n",
    "\n",
    "# Calculate the distribution of sentiments\n",
    "data = df['rating'].value_counts().sort_index(ascending=False)\n",
    "percentage_data = (data / df.shape[0] * 100)\n",
    "\n",
    "colors = plt.get_cmap('viridis')\n",
    "\n",
    "# Create the figure with Matplotlib\n",
    "plt.figure(figsize=(8, 6))\n",
    "bars = plt.bar(data.index, data.values)\n",
    "plt.xlabel('rating')\n",
    "plt.ylabel('Number of reviews')\n",
    "plt.title('Distribution of {} ratings (%)'.format(df.shape[0]))\n",
    "\n",
    "for i, (bar, v) in enumerate(zip(bars, percentage_data)):\n",
    "    bar.set_color(colors(i / len(data)))\n",
    "    bar.set_label('{:.1f}%'.format(v))\n",
    "\n",
    "plt.legend(loc='upper left')\n",
    "plt.show()\n"
   ]
  },
  {
   "cell_type": "code",
   "execution_count": 176,
   "metadata": {},
   "outputs": [
    {
     "data": {
      "text/html": [
       "<div>\n",
       "<style scoped>\n",
       "    .dataframe tbody tr th:only-of-type {\n",
       "        vertical-align: middle;\n",
       "    }\n",
       "\n",
       "    .dataframe tbody tr th {\n",
       "        vertical-align: top;\n",
       "    }\n",
       "\n",
       "    .dataframe thead th {\n",
       "        text-align: right;\n",
       "    }\n",
       "</style>\n",
       "<table border=\"1\" class=\"dataframe\">\n",
       "  <thead>\n",
       "    <tr style=\"text-align: right;\">\n",
       "      <th></th>\n",
       "      <th>item_id</th>\n",
       "      <th>user_id</th>\n",
       "      <th>recommend</th>\n",
       "      <th>sentiment_analysis</th>\n",
       "      <th>app_name</th>\n",
       "      <th>rating</th>\n",
       "    </tr>\n",
       "  </thead>\n",
       "  <tbody>\n",
       "    <tr>\n",
       "      <th>0</th>\n",
       "      <td>1250</td>\n",
       "      <td>76561197970982479</td>\n",
       "      <td>True</td>\n",
       "      <td>2</td>\n",
       "      <td>Killing Floor</td>\n",
       "      <td>5.0</td>\n",
       "    </tr>\n",
       "    <tr>\n",
       "      <th>1</th>\n",
       "      <td>1250</td>\n",
       "      <td>death-hunter</td>\n",
       "      <td>True</td>\n",
       "      <td>2</td>\n",
       "      <td>Killing Floor</td>\n",
       "      <td>5.0</td>\n",
       "    </tr>\n",
       "    <tr>\n",
       "      <th>2</th>\n",
       "      <td>1250</td>\n",
       "      <td>DJKamBer</td>\n",
       "      <td>True</td>\n",
       "      <td>0</td>\n",
       "      <td>Killing Floor</td>\n",
       "      <td>3.0</td>\n",
       "    </tr>\n",
       "    <tr>\n",
       "      <th>3</th>\n",
       "      <td>1250</td>\n",
       "      <td>diego9031</td>\n",
       "      <td>True</td>\n",
       "      <td>2</td>\n",
       "      <td>Killing Floor</td>\n",
       "      <td>5.0</td>\n",
       "    </tr>\n",
       "    <tr>\n",
       "      <th>4</th>\n",
       "      <td>1250</td>\n",
       "      <td>76561198081962345</td>\n",
       "      <td>True</td>\n",
       "      <td>2</td>\n",
       "      <td>Killing Floor</td>\n",
       "      <td>5.0</td>\n",
       "    </tr>\n",
       "  </tbody>\n",
       "</table>\n",
       "</div>"
      ],
      "text/plain": [
       "   item_id            user_id  recommend  sentiment_analysis       app_name  \\\n",
       "0     1250  76561197970982479       True                   2  Killing Floor   \n",
       "1     1250       death-hunter       True                   2  Killing Floor   \n",
       "2     1250           DJKamBer       True                   0  Killing Floor   \n",
       "3     1250          diego9031       True                   2  Killing Floor   \n",
       "4     1250  76561198081962345       True                   2  Killing Floor   \n",
       "\n",
       "   rating  \n",
       "0     5.0  \n",
       "1     5.0  \n",
       "2     3.0  \n",
       "3     5.0  \n",
       "4     5.0  "
      ]
     },
     "execution_count": 176,
     "metadata": {},
     "output_type": "execute_result"
    }
   ],
   "source": [
    "df.head()"
   ]
  },
  {
   "cell_type": "code",
   "execution_count": 177,
   "metadata": {},
   "outputs": [
    {
     "data": {
      "text/html": [
       "<div>\n",
       "<style scoped>\n",
       "    .dataframe tbody tr th:only-of-type {\n",
       "        vertical-align: middle;\n",
       "    }\n",
       "\n",
       "    .dataframe tbody tr th {\n",
       "        vertical-align: top;\n",
       "    }\n",
       "\n",
       "    .dataframe thead th {\n",
       "        text-align: right;\n",
       "    }\n",
       "</style>\n",
       "<table border=\"1\" class=\"dataframe\">\n",
       "  <thead>\n",
       "    <tr style=\"text-align: right;\">\n",
       "      <th></th>\n",
       "      <th>user_id</th>\n",
       "      <th>app_name</th>\n",
       "      <th>rating</th>\n",
       "    </tr>\n",
       "  </thead>\n",
       "  <tbody>\n",
       "    <tr>\n",
       "      <th>0</th>\n",
       "      <td>76561197970982479</td>\n",
       "      <td>Killing Floor</td>\n",
       "      <td>5.0</td>\n",
       "    </tr>\n",
       "    <tr>\n",
       "      <th>1</th>\n",
       "      <td>death-hunter</td>\n",
       "      <td>Killing Floor</td>\n",
       "      <td>5.0</td>\n",
       "    </tr>\n",
       "    <tr>\n",
       "      <th>2</th>\n",
       "      <td>DJKamBer</td>\n",
       "      <td>Killing Floor</td>\n",
       "      <td>3.0</td>\n",
       "    </tr>\n",
       "    <tr>\n",
       "      <th>3</th>\n",
       "      <td>diego9031</td>\n",
       "      <td>Killing Floor</td>\n",
       "      <td>5.0</td>\n",
       "    </tr>\n",
       "    <tr>\n",
       "      <th>4</th>\n",
       "      <td>76561198081962345</td>\n",
       "      <td>Killing Floor</td>\n",
       "      <td>5.0</td>\n",
       "    </tr>\n",
       "    <tr>\n",
       "      <th>...</th>\n",
       "      <td>...</td>\n",
       "      <td>...</td>\n",
       "      <td>...</td>\n",
       "    </tr>\n",
       "    <tr>\n",
       "      <th>40414</th>\n",
       "      <td>laislabonita75</td>\n",
       "      <td>Aero's Quest</td>\n",
       "      <td>5.0</td>\n",
       "    </tr>\n",
       "    <tr>\n",
       "      <th>40415</th>\n",
       "      <td>evilindiegaming</td>\n",
       "      <td>Aero's Quest</td>\n",
       "      <td>5.0</td>\n",
       "    </tr>\n",
       "    <tr>\n",
       "      <th>40416</th>\n",
       "      <td>laislabonita75</td>\n",
       "      <td>Another Perspective</td>\n",
       "      <td>0.0</td>\n",
       "    </tr>\n",
       "    <tr>\n",
       "      <th>40417</th>\n",
       "      <td>Gamer0009</td>\n",
       "      <td>The Howler</td>\n",
       "      <td>5.0</td>\n",
       "    </tr>\n",
       "    <tr>\n",
       "      <th>40418</th>\n",
       "      <td>llDracuwulf</td>\n",
       "      <td>Asteria</td>\n",
       "      <td>5.0</td>\n",
       "    </tr>\n",
       "  </tbody>\n",
       "</table>\n",
       "<p>40419 rows × 3 columns</p>\n",
       "</div>"
      ],
      "text/plain": [
       "                 user_id             app_name  rating\n",
       "0      76561197970982479        Killing Floor     5.0\n",
       "1           death-hunter        Killing Floor     5.0\n",
       "2               DJKamBer        Killing Floor     3.0\n",
       "3              diego9031        Killing Floor     5.0\n",
       "4      76561198081962345        Killing Floor     5.0\n",
       "...                  ...                  ...     ...\n",
       "40414     laislabonita75         Aero's Quest     5.0\n",
       "40415    evilindiegaming         Aero's Quest     5.0\n",
       "40416     laislabonita75  Another Perspective     0.0\n",
       "40417          Gamer0009           The Howler     5.0\n",
       "40418        llDracuwulf              Asteria     5.0\n",
       "\n",
       "[40419 rows x 3 columns]"
      ]
     },
     "execution_count": 177,
     "metadata": {},
     "output_type": "execute_result"
    }
   ],
   "source": [
    "train_data= df[['user_id','app_name','rating']]\n",
    "train_data"
   ]
  },
  {
   "cell_type": "markdown",
   "metadata": {},
   "source": [
    "# SVD"
   ]
  },
  {
   "cell_type": "code",
   "execution_count": 178,
   "metadata": {},
   "outputs": [
    {
     "name": "stdout",
     "output_type": "stream",
     "text": [
      "SVD: Test Set\n",
      "RMSE: 1.1914\n",
      "\n",
      "\n",
      "SVD: Training Set\n",
      "RMSE: 0.8800\n"
     ]
    },
    {
     "data": {
      "text/plain": [
       "0.8799565433560482"
      ]
     },
     "execution_count": 178,
     "metadata": {},
     "output_type": "execute_result"
    }
   ],
   "source": [
    "# Define a reader for your data format\n",
    "reader = Reader(rating_scale=(0, 5))  # Adapt rating_scale to your data\n",
    "\n",
    "# Load the data using the reader\n",
    "data = Dataset.load_from_df(train_data, reader)\n",
    "\n",
    "# Split the dataset into training and test sets\n",
    "train_set, test_set = train_test_split(data, test_size=0.25)  # You can adjust the test size\n",
    "\n",
    "# Select an algorithm (e.g., SVD) and train the model\n",
    "svd_algo = SVD(n_factors=50, n_epochs=30, biased=True, lr_all=0.005, reg_all=0.1, random_state=42)\n",
    "svd_algo.fit(train_set)\n",
    "\n",
    "# Make predictions on the test set\n",
    "test_pred = svd_algo.test(test_set)\n",
    "\n",
    "print(\"SVD: Test Set\")\n",
    "accuracy.rmse(test_pred, verbose=True)\n",
    "\n",
    "print(\"\\n\")\n",
    "\n",
    "print(\"SVD: Training Set\")\n",
    "training_pred = svd_algo.test(train_set.build_testset())\n",
    "accuracy.rmse(training_pred, verbose=True)\n"
   ]
  },
  {
   "cell_type": "markdown",
   "metadata": {},
   "source": [
    "- Ajuste Hiperparámetros SVD"
   ]
  },
  {
   "cell_type": "code",
   "execution_count": 179,
   "metadata": {},
   "outputs": [],
   "source": [
    "# Hyperparameter tuning\n",
    "param_grid = {'n_factors': [5, 50, 100, 120], 'n_epochs': [5, 10, 20, 35], 'lr_all': [0.001, 0.002, 0.005],\n",
    "              'reg_all': [0.002, 0.02, 0.2]}\n",
    "\n",
    "# Perform grid search to find the best hyperparameters\n",
    "gs = GridSearchCV(SVD, param_grid, measures=['rmse', 'mae'], cv=3, n_jobs=-1)\n",
    "gs.fit(data)\n",
    "\n"
   ]
  },
  {
   "cell_type": "code",
   "execution_count": 180,
   "metadata": {},
   "outputs": [
    {
     "name": "stdout",
     "output_type": "stream",
     "text": [
      "Best value for RMSE 1.2066206586239951\n"
     ]
    }
   ],
   "source": [
    "print(\"Best value for RMSE\", gs.best_score['rmse'])"
   ]
  },
  {
   "cell_type": "code",
   "execution_count": 181,
   "metadata": {},
   "outputs": [
    {
     "name": "stdout",
     "output_type": "stream",
     "text": [
      "Best hiperparameters: {'n_factors': 5, 'n_epochs': 20, 'lr_all': 0.005, 'reg_all': 0.2}\n"
     ]
    }
   ],
   "source": [
    "print(\"Best hiperparameters:\", gs.best_params['rmse'])"
   ]
  },
  {
   "cell_type": "code",
   "execution_count": 182,
   "metadata": {},
   "outputs": [],
   "source": [
    "best_svd= gs.best_estimator['rmse']"
   ]
  },
  {
   "cell_type": "code",
   "execution_count": 183,
   "metadata": {},
   "outputs": [
    {
     "name": "stdout",
     "output_type": "stream",
     "text": [
      "Cross-validation of the SVD algorithm on 10 partitions\n",
      "Evaluating RMSE, MAE of algorithm SVD on 10 split(s).\n",
      "\n",
      "                  Fold 1  Fold 2  Fold 3  Fold 4  Fold 5  Fold 6  Fold 7  Fold 8  Fold 9  Fold 10 Mean    Std     \n",
      "RMSE (testset)    1.1968  1.2260  1.2381  1.2192  1.1719  1.2110  1.2157  1.1578  1.1665  1.2011  1.2004  0.0256  \n",
      "MAE (testset)     0.8329  0.8517  0.8541  0.8395  0.8223  0.8366  0.8447  0.8097  0.8183  0.8294  0.8339  0.0137  \n",
      "Fit time          0.06    0.06    0.06    0.06    0.06    0.06    0.06    0.06    0.07    0.06    0.06    0.00    \n",
      "Test time         0.01    0.01    0.01    0.01    0.01    0.01    0.01    0.01    0.01    0.01    0.01    0.00    \n"
     ]
    },
    {
     "data": {
      "text/plain": [
       "{'test_rmse': array([1.19677704, 1.22598169, 1.23814934, 1.2191878 , 1.17185157,\n",
       "        1.21096733, 1.21574107, 1.15775827, 1.16648139, 1.20109334]),\n",
       " 'test_mae': array([0.83294679, 0.85173906, 0.85406573, 0.83953521, 0.82229317,\n",
       "        0.8365934 , 0.84469158, 0.80969297, 0.8182865 , 0.82941122]),\n",
       " 'fit_time': (0.06399941444396973,\n",
       "  0.05999922752380371,\n",
       "  0.06400012969970703,\n",
       "  0.06099987030029297,\n",
       "  0.06199979782104492,\n",
       "  0.059999942779541016,\n",
       "  0.06399989128112793,\n",
       "  0.06300067901611328,\n",
       "  0.06700015068054199,\n",
       "  0.060999393463134766),\n",
       " 'test_time': (0.00800013542175293,\n",
       "  0.008999824523925781,\n",
       "  0.008999824523925781,\n",
       "  0.007999897003173828,\n",
       "  0.007999897003173828,\n",
       "  0.007999897003173828,\n",
       "  0.00800013542175293,\n",
       "  0.007999420166015625,\n",
       "  0.007999897003173828,\n",
       "  0.009000062942504883)}"
      ]
     },
     "execution_count": 183,
     "metadata": {},
     "output_type": "execute_result"
    }
   ],
   "source": [
    "# Cross-validation of the SVD algorithm on 10 partitions\n",
    "print(\"Cross-validation of the SVD algorithm on 10 partitions\")\n",
    "cross_validate(best_svd, data, measures=['RMSE', 'MAE'], cv=10, verbose=True)\n"
   ]
  },
  {
   "cell_type": "markdown",
   "metadata": {},
   "source": [
    "## Model with better hiperparameters"
   ]
  },
  {
   "cell_type": "code",
   "execution_count": 184,
   "metadata": {},
   "outputs": [
    {
     "name": "stdout",
     "output_type": "stream",
     "text": [
      "Evaluating RMSE, MAE of algorithm SVD on 7 split(s).\n",
      "\n",
      "                  Fold 1  Fold 2  Fold 3  Fold 4  Fold 5  Fold 6  Fold 7  Mean    Std     \n",
      "RMSE (testset)    1.2104  1.1850  1.2240  1.2144  1.2248  1.1948  1.1770  1.2044  0.0176  \n",
      "MAE (testset)     0.8481  0.8268  0.8464  0.8404  0.8411  0.8267  0.8153  0.8350  0.0113  \n",
      "Fit time          0.33    0.32    0.32    0.31    0.34    0.33    0.33    0.33    0.01    \n",
      "Test time         0.01    0.01    0.01    0.01    0.01    0.01    0.01    0.01    0.00    \n",
      "SVD: Test Set\n",
      "RMSE: 1.1867\n",
      "\n",
      "\n",
      "SVD: Training Set\n",
      "RMSE: 0.8182\n"
     ]
    },
    {
     "data": {
      "text/plain": [
       "0.8181663803478417"
      ]
     },
     "execution_count": 184,
     "metadata": {},
     "output_type": "execute_result"
    }
   ],
   "source": [
    "# Define a reader for your data\n",
    "reader2 = Reader(rating_scale=(0, 5))  # Adapt rating_scale to your data\n",
    "\n",
    "# Load the data using the reader\n",
    "data2 = Dataset.load_from_df(train_data, reader2)\n",
    "\n",
    "# Split the dataset into training and test sets with a specified random seed\n",
    "train_set, test_set = train_test_split(data2, test_size=0.25, random_state=42)  # You can adjust the test size\n",
    "\n",
    "# Select an algorithm (e.g., SVD) and train the model\n",
    "svd_algo2 = SVD(n_factors=120, n_epochs=35, lr_all=0.005, reg_all=0.2)\n",
    "\n",
    "# Perform cross-validation with the algorithm\n",
    "cross_validate(svd_algo2, data2, measures=['RMSE', 'MAE'], cv=7, verbose=True)\n",
    "\n",
    "# Fit the model on the training set\n",
    "svd_algo2.fit(train_set)\n",
    "\n",
    "# Make predictions on the test set\n",
    "test_pred2 = svd_algo2.test(test_set)\n",
    "\n",
    "print(\"SVD: Test Set\")\n",
    "accuracy.rmse(test_pred2, verbose=True)\n",
    "\n",
    "print(\"\\n\")\n",
    "\n",
    "print(\"SVD: Training Set\")\n",
    "training_pred2 = svd_algo2.test(train_set.build_testset())\n",
    "accuracy.rmse(training_pred2, verbose=True)\n"
   ]
  },
  {
   "cell_type": "code",
   "execution_count": 185,
   "metadata": {},
   "outputs": [],
   "source": [
    "with open('Data/model.pkl', 'wb') as archivo:\n",
    "    pickle.dump(svd_algo2, archivo)\n",
    "    "
   ]
  },
  {
   "cell_type": "code",
   "execution_count": 186,
   "metadata": {},
   "outputs": [],
   "source": [
    "with open ('Data/model.pkl', 'rb') as archivo:\n",
    "    model = pickle.load(archivo)"
   ]
  },
  {
   "cell_type": "code",
   "execution_count": 187,
   "metadata": {},
   "outputs": [],
   "source": [
    "def recommend_games(user_id):\n",
    "    dictionary = {}\n",
    "    # Create a list of games already rated by the specific user\n",
    "    rated_games = df[df['user_id'] == user_id]['app_name'].unique()\n",
    "\n",
    "    # Create a list of all available games\n",
    "    all_games = df['app_name'].unique()\n",
    "\n",
    "    # Create a list of games not rated by the specific user\n",
    "    unrated_games = list(set(all_games) - set(rated_games))\n",
    "\n",
    "    # Generate predictions for games not rated by the user\n",
    "    predictions = [model.predict(user_id, game) for game in unrated_games]\n",
    "\n",
    "    # Sort predictions based on rating and get the recommended games\n",
    "    recommendations = sorted(predictions, key=lambda x: x.est, reverse=True)[:5]  # Get the top 5 recommendations\n",
    "\n",
    "    # Show the recommended games\n",
    "    game_list = []\n",
    "    for recommendation in recommendations:\n",
    "        game_list.append(recommendation.iid)\n",
    "\n",
    "    for i, game in enumerate(game_list, start=1):\n",
    "        option = f\"option{i}\"\n",
    "        dictionary[option] = game\n",
    "\n",
    "    if user_id not in df['user_id'].unique():\n",
    "        return \"User does not exist\"\n",
    "    else:\n",
    "        return dictionary\n",
    "\n",
    " "
   ]
  },
  {
   "cell_type": "code",
   "execution_count": 188,
   "metadata": {},
   "outputs": [
    {
     "data": {
      "text/plain": [
       "{'opcion1': 'S.T.A.L.K.E.R.: Call of Pripyat',\n",
       " 'opcion2': 'FINAL FANTASY VII',\n",
       " 'opcion3': \"Tom Clancy's Splinter Cell Chaos Theory®\",\n",
       " 'opcion4': 'Thief™ Gold',\n",
       " 'opcion5': 'Batman: Arkham City - Game of the Year Edition'}"
      ]
     },
     "execution_count": 188,
     "metadata": {},
     "output_type": "execute_result"
    }
   ],
   "source": [
    "recomendar_peliculas('JunG00berfuckingsucks')"
   ]
  },
  {
   "cell_type": "code",
   "execution_count": 189,
   "metadata": {},
   "outputs": [
    {
     "data": {
      "text/plain": [
       "{'opcion1': 'You Have to Win the Game',\n",
       " 'opcion2': 'Tropico 4',\n",
       " 'opcion3': 'Human Resource Machine',\n",
       " 'opcion4': 'METAL GEAR SOLID V: GROUND ZEROES',\n",
       " 'opcion5': 'Worms Revolution'}"
      ]
     },
     "execution_count": 189,
     "metadata": {},
     "output_type": "execute_result"
    }
   ],
   "source": [
    "recomendar_peliculas('Gamer0009')"
   ]
  },
  {
   "cell_type": "code",
   "execution_count": 190,
   "metadata": {},
   "outputs": [
    {
     "data": {
      "text/plain": [
       "{'opcion1': 'DLC Quest',\n",
       " 'opcion2': 'Age of Empires® III: Complete Collection',\n",
       " 'opcion3': 'Solar 2',\n",
       " 'opcion4': 'Rochard',\n",
       " 'opcion5': 'The Expendabros'}"
      ]
     },
     "execution_count": 190,
     "metadata": {},
     "output_type": "execute_result"
    }
   ],
   "source": [
    "recomendar_peliculas('laislabonita75')"
   ]
  },
  {
   "cell_type": "code",
   "execution_count": 191,
   "metadata": {},
   "outputs": [
    {
     "name": "stdout",
     "output_type": "stream",
     "text": [
      "SVD: Test Set\n",
      "RMSE: 1.0472\n",
      "\n",
      "\n",
      "SVD: Training Set\n",
      "RMSE: 1.0722\n"
     ]
    },
    {
     "data": {
      "text/plain": [
       "1.0721709314148304"
      ]
     },
     "execution_count": 191,
     "metadata": {},
     "output_type": "execute_result"
    }
   ],
   "source": [
    "# Fit the best SVD model on the full training dataset\n",
    "best_svd.fit(data.build_full_trainset())\n",
    "\n",
    "# Make predictions on the test set\n",
    "test_pred = best_svd.test(test_set)\n",
    "\n",
    "print(\"SVD: Test Set\")\n",
    "accuracy.rmse(test_pred, verbose=True)\n",
    "\n",
    "print(\"\\n\")\n",
    "\n",
    "print(\"SVD: Training Set\")\n",
    "training_pred = best_svd.test(train_set.build_testset())\n",
    "accuracy.rmse(training_pred, verbose=True)\n"
   ]
  },
  {
   "cell_type": "code",
   "execution_count": 192,
   "metadata": {},
   "outputs": [
    {
     "data": {
      "text/plain": [
       "Prediction(uid='76561197970982479', iid='Killing Floor', r_ui=5.0, est=4.614853311094266, details={'was_impossible': False})"
      ]
     },
     "execution_count": 192,
     "metadata": {},
     "output_type": "execute_result"
    }
   ],
   "source": [
    "best_svd.predict(uid='76561197970982479', iid='Killing Floor', r_ui=5.0)"
   ]
  },
  {
   "cell_type": "code",
   "execution_count": 193,
   "metadata": {},
   "outputs": [
    {
     "data": {
      "text/html": [
       "<div>\n",
       "<style scoped>\n",
       "    .dataframe tbody tr th:only-of-type {\n",
       "        vertical-align: middle;\n",
       "    }\n",
       "\n",
       "    .dataframe tbody tr th {\n",
       "        vertical-align: top;\n",
       "    }\n",
       "\n",
       "    .dataframe thead th {\n",
       "        text-align: right;\n",
       "    }\n",
       "</style>\n",
       "<table border=\"1\" class=\"dataframe\">\n",
       "  <thead>\n",
       "    <tr style=\"text-align: right;\">\n",
       "      <th></th>\n",
       "      <th>user_id</th>\n",
       "      <th>app_name</th>\n",
       "      <th>rating</th>\n",
       "    </tr>\n",
       "  </thead>\n",
       "  <tbody>\n",
       "    <tr>\n",
       "      <th>0</th>\n",
       "      <td>76561197970982479</td>\n",
       "      <td>Killing Floor</td>\n",
       "      <td>5.0</td>\n",
       "    </tr>\n",
       "  </tbody>\n",
       "</table>\n",
       "</div>"
      ],
      "text/plain": [
       "             user_id       app_name  rating\n",
       "0  76561197970982479  Killing Floor     5.0"
      ]
     },
     "execution_count": 193,
     "metadata": {},
     "output_type": "execute_result"
    }
   ],
   "source": [
    "train_data.head(1)"
   ]
  },
  {
   "cell_type": "code",
   "execution_count": 194,
   "metadata": {},
   "outputs": [],
   "source": [
    "def get_prediction(row):\n",
    "    user_id = row['user_id']\n",
    "    item_id = row['item_id']\n",
    "    prediction = best_svd.predict(uid=user_id, iid=item_id)\n",
    "    return prediction.est\n",
    "\n",
    "# Apply the prediction retrieval function to each row in the DataFrame\n",
    "df['predictions'] = df.apply(get_prediction, axis=1)\n",
    "\n"
   ]
  },
  {
   "cell_type": "code",
   "execution_count": 195,
   "metadata": {},
   "outputs": [
    {
     "data": {
      "text/html": [
       "<div>\n",
       "<style scoped>\n",
       "    .dataframe tbody tr th:only-of-type {\n",
       "        vertical-align: middle;\n",
       "    }\n",
       "\n",
       "    .dataframe tbody tr th {\n",
       "        vertical-align: top;\n",
       "    }\n",
       "\n",
       "    .dataframe thead th {\n",
       "        text-align: right;\n",
       "    }\n",
       "</style>\n",
       "<table border=\"1\" class=\"dataframe\">\n",
       "  <thead>\n",
       "    <tr style=\"text-align: right;\">\n",
       "      <th></th>\n",
       "      <th>item_id</th>\n",
       "      <th>user_id</th>\n",
       "      <th>recommend</th>\n",
       "      <th>sentiment_analysis</th>\n",
       "      <th>app_name</th>\n",
       "      <th>rating</th>\n",
       "      <th>predictions</th>\n",
       "    </tr>\n",
       "  </thead>\n",
       "  <tbody>\n",
       "    <tr>\n",
       "      <th>0</th>\n",
       "      <td>1250</td>\n",
       "      <td>76561197970982479</td>\n",
       "      <td>True</td>\n",
       "      <td>2</td>\n",
       "      <td>Killing Floor</td>\n",
       "      <td>5.0</td>\n",
       "      <td>4.510922</td>\n",
       "    </tr>\n",
       "    <tr>\n",
       "      <th>1</th>\n",
       "      <td>1250</td>\n",
       "      <td>death-hunter</td>\n",
       "      <td>True</td>\n",
       "      <td>2</td>\n",
       "      <td>Killing Floor</td>\n",
       "      <td>5.0</td>\n",
       "      <td>4.545006</td>\n",
       "    </tr>\n",
       "    <tr>\n",
       "      <th>2</th>\n",
       "      <td>1250</td>\n",
       "      <td>DJKamBer</td>\n",
       "      <td>True</td>\n",
       "      <td>0</td>\n",
       "      <td>Killing Floor</td>\n",
       "      <td>3.0</td>\n",
       "      <td>4.401391</td>\n",
       "    </tr>\n",
       "    <tr>\n",
       "      <th>3</th>\n",
       "      <td>1250</td>\n",
       "      <td>diego9031</td>\n",
       "      <td>True</td>\n",
       "      <td>2</td>\n",
       "      <td>Killing Floor</td>\n",
       "      <td>5.0</td>\n",
       "      <td>4.722680</td>\n",
       "    </tr>\n",
       "    <tr>\n",
       "      <th>4</th>\n",
       "      <td>1250</td>\n",
       "      <td>76561198081962345</td>\n",
       "      <td>True</td>\n",
       "      <td>2</td>\n",
       "      <td>Killing Floor</td>\n",
       "      <td>5.0</td>\n",
       "      <td>4.466059</td>\n",
       "    </tr>\n",
       "    <tr>\n",
       "      <th>...</th>\n",
       "      <td>...</td>\n",
       "      <td>...</td>\n",
       "      <td>...</td>\n",
       "      <td>...</td>\n",
       "      <td>...</td>\n",
       "      <td>...</td>\n",
       "      <td>...</td>\n",
       "    </tr>\n",
       "    <tr>\n",
       "      <th>40414</th>\n",
       "      <td>367780</td>\n",
       "      <td>laislabonita75</td>\n",
       "      <td>True</td>\n",
       "      <td>2</td>\n",
       "      <td>Aero's Quest</td>\n",
       "      <td>5.0</td>\n",
       "      <td>4.094819</td>\n",
       "    </tr>\n",
       "    <tr>\n",
       "      <th>40415</th>\n",
       "      <td>367780</td>\n",
       "      <td>evilindiegaming</td>\n",
       "      <td>True</td>\n",
       "      <td>2</td>\n",
       "      <td>Aero's Quest</td>\n",
       "      <td>5.0</td>\n",
       "      <td>4.469986</td>\n",
       "    </tr>\n",
       "    <tr>\n",
       "      <th>40416</th>\n",
       "      <td>305920</td>\n",
       "      <td>laislabonita75</td>\n",
       "      <td>False</td>\n",
       "      <td>0</td>\n",
       "      <td>Another Perspective</td>\n",
       "      <td>0.0</td>\n",
       "      <td>4.094819</td>\n",
       "    </tr>\n",
       "    <tr>\n",
       "      <th>40417</th>\n",
       "      <td>306040</td>\n",
       "      <td>Gamer0009</td>\n",
       "      <td>True</td>\n",
       "      <td>2</td>\n",
       "      <td>The Howler</td>\n",
       "      <td>5.0</td>\n",
       "      <td>4.471451</td>\n",
       "    </tr>\n",
       "    <tr>\n",
       "      <th>40418</th>\n",
       "      <td>307130</td>\n",
       "      <td>llDracuwulf</td>\n",
       "      <td>True</td>\n",
       "      <td>2</td>\n",
       "      <td>Asteria</td>\n",
       "      <td>5.0</td>\n",
       "      <td>4.469923</td>\n",
       "    </tr>\n",
       "  </tbody>\n",
       "</table>\n",
       "<p>40419 rows × 7 columns</p>\n",
       "</div>"
      ],
      "text/plain": [
       "       item_id            user_id  recommend  sentiment_analysis  \\\n",
       "0         1250  76561197970982479       True                   2   \n",
       "1         1250       death-hunter       True                   2   \n",
       "2         1250           DJKamBer       True                   0   \n",
       "3         1250          diego9031       True                   2   \n",
       "4         1250  76561198081962345       True                   2   \n",
       "...        ...                ...        ...                 ...   \n",
       "40414   367780     laislabonita75       True                   2   \n",
       "40415   367780    evilindiegaming       True                   2   \n",
       "40416   305920     laislabonita75      False                   0   \n",
       "40417   306040          Gamer0009       True                   2   \n",
       "40418   307130        llDracuwulf       True                   2   \n",
       "\n",
       "                  app_name  rating  predictions  \n",
       "0            Killing Floor     5.0     4.510922  \n",
       "1            Killing Floor     5.0     4.545006  \n",
       "2            Killing Floor     3.0     4.401391  \n",
       "3            Killing Floor     5.0     4.722680  \n",
       "4            Killing Floor     5.0     4.466059  \n",
       "...                    ...     ...          ...  \n",
       "40414         Aero's Quest     5.0     4.094819  \n",
       "40415         Aero's Quest     5.0     4.469986  \n",
       "40416  Another Perspective     0.0     4.094819  \n",
       "40417           The Howler     5.0     4.471451  \n",
       "40418              Asteria     5.0     4.469923  \n",
       "\n",
       "[40419 rows x 7 columns]"
      ]
     },
     "execution_count": 195,
     "metadata": {},
     "output_type": "execute_result"
    }
   ],
   "source": [
    "df"
   ]
  },
  {
   "cell_type": "markdown",
   "metadata": {},
   "source": [
    "### Save as a parquet"
   ]
  },
  {
   "cell_type": "code",
   "execution_count": 196,
   "metadata": {},
   "outputs": [],
   "source": [
    "df.to_parquet('Data/ML_1.parquet')"
   ]
  },
  {
   "cell_type": "code",
   "execution_count": 197,
   "metadata": {},
   "outputs": [
    {
     "name": "stdout",
     "output_type": "stream",
     "text": [
      "Top 5 Recommendations:\n",
      "['Dirty Bomb®', 'Hydrophobia: Prophecy', 'Sniper: Ghost Warrior', 'Call of Duty®: Advanced Warfare - Gold Edition', 'Call of Duty®: Black Ops II']\n"
     ]
    }
   ],
   "source": [
    "# Filter predictions only for the specific user\n",
    "user_predictions = df[df['user_id'] == '76561198081962345']\n",
    "\n",
    "# Filter games not seen by the user\n",
    "unseen_games = df[~df['item_id'].isin(user_predictions['item_id'])]\n",
    "\n",
    "# Sort predictions in descending order\n",
    "unseen_games = unseen_games.sort_values(by='predictions', ascending=False)\n",
    "\n",
    "# Select the top 5 games for recommendations\n",
    "top_recommendations = unseen_games.head(5)\n",
    "\n",
    "# Print the recommendations\n",
    "print(\"Top 5 Recommendations:\")\n",
    "game_list = []\n",
    "for index, row in top_recommendations.iterrows():\n",
    "    game_list.append(row['app_name'])\n",
    "print(game_list)\n"
   ]
  },
  {
   "cell_type": "code",
   "execution_count": 198,
   "metadata": {},
   "outputs": [
    {
     "data": {
      "text/html": [
       "<div>\n",
       "<style scoped>\n",
       "    .dataframe tbody tr th:only-of-type {\n",
       "        vertical-align: middle;\n",
       "    }\n",
       "\n",
       "    .dataframe tbody tr th {\n",
       "        vertical-align: top;\n",
       "    }\n",
       "\n",
       "    .dataframe thead th {\n",
       "        text-align: right;\n",
       "    }\n",
       "</style>\n",
       "<table border=\"1\" class=\"dataframe\">\n",
       "  <thead>\n",
       "    <tr style=\"text-align: right;\">\n",
       "      <th></th>\n",
       "      <th>item_id</th>\n",
       "      <th>user_id</th>\n",
       "      <th>recommend</th>\n",
       "      <th>sentiment_analysis</th>\n",
       "      <th>app_name</th>\n",
       "      <th>rating</th>\n",
       "      <th>predictions</th>\n",
       "    </tr>\n",
       "  </thead>\n",
       "  <tbody>\n",
       "    <tr>\n",
       "      <th>4</th>\n",
       "      <td>1250</td>\n",
       "      <td>76561198081962345</td>\n",
       "      <td>True</td>\n",
       "      <td>2</td>\n",
       "      <td>Killing Floor</td>\n",
       "      <td>5.0</td>\n",
       "      <td>4.466059</td>\n",
       "    </tr>\n",
       "  </tbody>\n",
       "</table>\n",
       "</div>"
      ],
      "text/plain": [
       "   item_id            user_id  recommend  sentiment_analysis       app_name  \\\n",
       "4     1250  76561198081962345       True                   2  Killing Floor   \n",
       "\n",
       "   rating  predictions  \n",
       "4     5.0     4.466059  "
      ]
     },
     "execution_count": 198,
     "metadata": {},
     "output_type": "execute_result"
    }
   ],
   "source": [
    "filtro= df.loc[df['user_id'] == '76561198081962345']\n",
    "filtro"
   ]
  },
  {
   "cell_type": "markdown",
   "metadata": {},
   "source": [
    "Top 5 Recomendaciones:\n",
    "Spiral Knights 4.823347712736086\n",
    "METAL GEAR SOLID V: THE PHANTOM PAIN 4.823347712736086\n",
    "The Evil Within 4.823347712736086\n",
    "Call of Duty®: Advanced Warfare - Gold Edition 4.823347712736086\n",
    "Assassin's Creed® Unity 4.823347712736086"
   ]
  },
  {
   "cell_type": "code",
   "execution_count": 199,
   "metadata": {},
   "outputs": [],
   "source": [
    "with open('Data/modelo_final.pkl', 'wb') as file:\n",
    "    pickle.dump(best_svd, file)"
   ]
  },
  {
   "cell_type": "code",
   "execution_count": 200,
   "metadata": {},
   "outputs": [],
   "source": [
    "test= pd.read_parquet('Data/ML.parquet')"
   ]
  },
  {
   "cell_type": "code",
   "execution_count": 201,
   "metadata": {},
   "outputs": [
    {
     "data": {
      "text/html": [
       "<div>\n",
       "<style scoped>\n",
       "    .dataframe tbody tr th:only-of-type {\n",
       "        vertical-align: middle;\n",
       "    }\n",
       "\n",
       "    .dataframe tbody tr th {\n",
       "        vertical-align: top;\n",
       "    }\n",
       "\n",
       "    .dataframe thead th {\n",
       "        text-align: right;\n",
       "    }\n",
       "</style>\n",
       "<table border=\"1\" class=\"dataframe\">\n",
       "  <thead>\n",
       "    <tr style=\"text-align: right;\">\n",
       "      <th></th>\n",
       "      <th>item_id</th>\n",
       "      <th>user_id</th>\n",
       "      <th>recommend</th>\n",
       "      <th>sentiment_analysis</th>\n",
       "      <th>app_name</th>\n",
       "      <th>rating</th>\n",
       "      <th>predictions</th>\n",
       "    </tr>\n",
       "  </thead>\n",
       "  <tbody>\n",
       "    <tr>\n",
       "      <th>0</th>\n",
       "      <td>1250</td>\n",
       "      <td>76561197970982479</td>\n",
       "      <td>True</td>\n",
       "      <td>2</td>\n",
       "      <td>Killing Floor</td>\n",
       "      <td>5.0</td>\n",
       "      <td>4.410874</td>\n",
       "    </tr>\n",
       "    <tr>\n",
       "      <th>1</th>\n",
       "      <td>1250</td>\n",
       "      <td>death-hunter</td>\n",
       "      <td>True</td>\n",
       "      <td>2</td>\n",
       "      <td>Killing Floor</td>\n",
       "      <td>5.0</td>\n",
       "      <td>4.496091</td>\n",
       "    </tr>\n",
       "    <tr>\n",
       "      <th>2</th>\n",
       "      <td>1250</td>\n",
       "      <td>DJKamBer</td>\n",
       "      <td>True</td>\n",
       "      <td>0</td>\n",
       "      <td>Killing Floor</td>\n",
       "      <td>3.0</td>\n",
       "      <td>4.308860</td>\n",
       "    </tr>\n",
       "    <tr>\n",
       "      <th>3</th>\n",
       "      <td>1250</td>\n",
       "      <td>diego9031</td>\n",
       "      <td>True</td>\n",
       "      <td>1</td>\n",
       "      <td>Killing Floor</td>\n",
       "      <td>4.0</td>\n",
       "      <td>4.237986</td>\n",
       "    </tr>\n",
       "    <tr>\n",
       "      <th>4</th>\n",
       "      <td>1250</td>\n",
       "      <td>76561198081962345</td>\n",
       "      <td>True</td>\n",
       "      <td>1</td>\n",
       "      <td>Killing Floor</td>\n",
       "      <td>4.0</td>\n",
       "      <td>4.174789</td>\n",
       "    </tr>\n",
       "    <tr>\n",
       "      <th>...</th>\n",
       "      <td>...</td>\n",
       "      <td>...</td>\n",
       "      <td>...</td>\n",
       "      <td>...</td>\n",
       "      <td>...</td>\n",
       "      <td>...</td>\n",
       "      <td>...</td>\n",
       "    </tr>\n",
       "    <tr>\n",
       "      <th>41609</th>\n",
       "      <td>367780</td>\n",
       "      <td>laislabonita75</td>\n",
       "      <td>True</td>\n",
       "      <td>2</td>\n",
       "      <td>Aero's Quest</td>\n",
       "      <td>5.0</td>\n",
       "      <td>3.848902</td>\n",
       "    </tr>\n",
       "    <tr>\n",
       "      <th>41610</th>\n",
       "      <td>367780</td>\n",
       "      <td>evilindiegaming</td>\n",
       "      <td>True</td>\n",
       "      <td>2</td>\n",
       "      <td>Aero's Quest</td>\n",
       "      <td>5.0</td>\n",
       "      <td>4.330905</td>\n",
       "    </tr>\n",
       "    <tr>\n",
       "      <th>41611</th>\n",
       "      <td>305920</td>\n",
       "      <td>laislabonita75</td>\n",
       "      <td>False</td>\n",
       "      <td>0</td>\n",
       "      <td>Another Perspective</td>\n",
       "      <td>0.0</td>\n",
       "      <td>3.848902</td>\n",
       "    </tr>\n",
       "    <tr>\n",
       "      <th>41612</th>\n",
       "      <td>306040</td>\n",
       "      <td>Gamer0009</td>\n",
       "      <td>True</td>\n",
       "      <td>2</td>\n",
       "      <td>The Howler</td>\n",
       "      <td>5.0</td>\n",
       "      <td>4.308333</td>\n",
       "    </tr>\n",
       "    <tr>\n",
       "      <th>41613</th>\n",
       "      <td>307130</td>\n",
       "      <td>llDracuwulf</td>\n",
       "      <td>True</td>\n",
       "      <td>2</td>\n",
       "      <td>Asteria</td>\n",
       "      <td>5.0</td>\n",
       "      <td>4.321891</td>\n",
       "    </tr>\n",
       "  </tbody>\n",
       "</table>\n",
       "<p>41614 rows × 7 columns</p>\n",
       "</div>"
      ],
      "text/plain": [
       "       item_id            user_id  recommend  sentiment_analysis  \\\n",
       "0         1250  76561197970982479       True                   2   \n",
       "1         1250       death-hunter       True                   2   \n",
       "2         1250           DJKamBer       True                   0   \n",
       "3         1250          diego9031       True                   1   \n",
       "4         1250  76561198081962345       True                   1   \n",
       "...        ...                ...        ...                 ...   \n",
       "41609   367780     laislabonita75       True                   2   \n",
       "41610   367780    evilindiegaming       True                   2   \n",
       "41611   305920     laislabonita75      False                   0   \n",
       "41612   306040          Gamer0009       True                   2   \n",
       "41613   307130        llDracuwulf       True                   2   \n",
       "\n",
       "                  app_name  rating  predictions  \n",
       "0            Killing Floor     5.0     4.410874  \n",
       "1            Killing Floor     5.0     4.496091  \n",
       "2            Killing Floor     3.0     4.308860  \n",
       "3            Killing Floor     4.0     4.237986  \n",
       "4            Killing Floor     4.0     4.174789  \n",
       "...                    ...     ...          ...  \n",
       "41609         Aero's Quest     5.0     3.848902  \n",
       "41610         Aero's Quest     5.0     4.330905  \n",
       "41611  Another Perspective     0.0     3.848902  \n",
       "41612           The Howler     5.0     4.308333  \n",
       "41613              Asteria     5.0     4.321891  \n",
       "\n",
       "[41614 rows x 7 columns]"
      ]
     },
     "execution_count": 201,
     "metadata": {},
     "output_type": "execute_result"
    }
   ],
   "source": [
    "test"
   ]
  },
  {
   "cell_type": "code",
   "execution_count": 202,
   "metadata": {},
   "outputs": [],
   "source": [
    "def user_recommendation(user_id):\n",
    "    \n",
    "    user_predictions = test[test['user_id'] == user_id]\n",
    "\n",
    "    # Filter games not seen by the user\n",
    "    unseen_games = test[~test['item_id'].isin(user_predictions['item_id'])]\n",
    "\n",
    "    # Sort predictions in descending order\n",
    "    unseen_games = unseen_games.sort_values(by='predictions', ascending=False)\n",
    "\n",
    "    # Select the top 5 game recommendations\n",
    "    top_recommendations = unseen_games.head(5)\n",
    "\n",
    "    # Print the recommendations\n",
    "    game_list = []\n",
    "\n",
    "    # Suppose that top_recommendations is a pandas DataFrame\n",
    "    for _, row in top_recommendations.iterrows():\n",
    "        game_list.append(row['app_name'])\n",
    "\n",
    "    dictionary = {}\n",
    "\n",
    "    for i, game in enumerate(game_list, start=1):\n",
    "        option = f\"option{i}\"\n",
    "        dictionary[option] = game\n",
    "\n",
    "    return dictionary\n"
   ]
  },
  {
   "cell_type": "code",
   "execution_count": 203,
   "metadata": {},
   "outputs": [
    {
     "data": {
      "text/plain": [
       "{'option1': 'Rust',\n",
       " 'option2': \"Five Nights at Freddy's\",\n",
       " 'option3': 'Counter-Strike',\n",
       " 'option4': 'Loadout',\n",
       " 'option5': 'Heroes & Generals'}"
      ]
     },
     "execution_count": 203,
     "metadata": {},
     "output_type": "execute_result"
    }
   ],
   "source": [
    "user_recommendation('Whackky')"
   ]
  },
  {
   "cell_type": "code",
   "execution_count": 204,
   "metadata": {},
   "outputs": [
    {
     "data": {
      "text/plain": [
       "{'option1': 'Loadout',\n",
       " 'option2': 'Rust',\n",
       " 'option3': 'Heroes & Generals',\n",
       " 'option4': 'Counter-Strike',\n",
       " 'option5': 'Codename CURE'}"
      ]
     },
     "execution_count": 204,
     "metadata": {},
     "output_type": "execute_result"
    }
   ],
   "source": [
    "user_recommendation('Sp3ctre')"
   ]
  },
  {
   "cell_type": "code",
   "execution_count": 205,
   "metadata": {},
   "outputs": [
    {
     "data": {
      "text/plain": [
       "{'option1': \"Garry's Mod\",\n",
       " 'option2': 'Heroes & Generals',\n",
       " 'option3': 'Loadout',\n",
       " 'option4': 'Counter-Strike',\n",
       " 'option5': 'Codename CURE'}"
      ]
     },
     "execution_count": 205,
     "metadata": {},
     "output_type": "execute_result"
    }
   ],
   "source": [
    "user_recommendation('spazrael_')"
   ]
  },
  {
   "cell_type": "markdown",
   "metadata": {},
   "source": [
    "# KNN"
   ]
  },
  {
   "cell_type": "code",
   "execution_count": 206,
   "metadata": {},
   "outputs": [
    {
     "name": "stdout",
     "output_type": "stream",
     "text": [
      "Computing the msd similarity matrix...\n",
      "Done computing similarity matrix.\n",
      "RMSE: 1.3311\n"
     ]
    },
    {
     "data": {
      "text/plain": [
       "1.3310781133126373"
      ]
     },
     "execution_count": 206,
     "metadata": {},
     "output_type": "execute_result"
    }
   ],
   "source": [
    "from surprise import KNNBasic\n",
    "\n",
    "# Define a reader for your data format\n",
    "reader = Reader(rating_scale=(0, 5))  # Adapt rating_scale to your data\n",
    "\n",
    "# Load the data using the reader\n",
    "data = Dataset.load_from_df(train_data, reader)\n",
    "\n",
    "# Split the dataset into training and test sets\n",
    "trainset, testset = train_test_split(data, test_size=0.25)  # You can adjust the test size\n",
    "\n",
    "# Select an algorithm (e.g., KNN) and train the model\n",
    "model2 = KNNBasic()  # Select the KNN algorithm\n",
    "model2.fit(trainset)\n",
    "\n",
    "# Make predictions on the test set\n",
    "predictions = model2.test(testset)\n",
    "\n",
    "# Evaluate the predictions\n",
    "accuracy.rmse(predictions)\n"
   ]
  },
  {
   "cell_type": "code",
   "execution_count": 207,
   "metadata": {},
   "outputs": [
    {
     "name": "stdout",
     "output_type": "stream",
     "text": [
      "Game: RWBY: Grimm Eclipse, Estimated Rating: 5\n",
      "Game: Bastion, Estimated Rating: 5\n",
      "Game: Turbo Dismount™, Estimated Rating: 5\n",
      "Game: ENSLAVED™: Odyssey to the West™ Premium Edition, Estimated Rating: 5\n",
      "Game: Age of Empires® III: Complete Collection, Estimated Rating: 5\n",
      "Game: FINAL FANTASY VII, Estimated Rating: 5\n",
      "Game: Tropico 4, Estimated Rating: 5\n",
      "Game: The Swapper, Estimated Rating: 5\n",
      "Game: Rogue Legacy, Estimated Rating: 5\n",
      "Game: Assassin’s Creed® Brotherhood, Estimated Rating: 4.997203792497966\n"
     ]
    }
   ],
   "source": [
    "# User ID for which you want recommendations\n",
    "specific_user = '76561197970982479'  # Replace 'js41637' with the user's ID for whom you want recommendations\n",
    "\n",
    "# Create a list of games already rated by the specific user\n",
    "rated_games = train_data[train_data['user_id'] == specific_user]['app_name'].unique()\n",
    "\n",
    "# Create a list of all available games\n",
    "all_games = train_data['app_name'].unique()\n",
    "\n",
    "# Create a list of games not rated by the specific user\n",
    "unrated_games = list(set(all_games) - set(rated_games))\n",
    "\n",
    "# Generate predictions for games not rated by the user\n",
    "predictions = [model.predict(specific_user, game) for game in unrated_games]\n",
    "\n",
    "# Sort predictions based on rating and get the recommended games (top 10)\n",
    "recommendations = sorted(predictions, key=lambda x: x.est, reverse=True)[:10]\n",
    "\n",
    "# Display the recommended games\n",
    "for recommendation in recommendations:\n",
    "    print(f\"Game: {recommendation.iid}, Estimated Rating: {recommendation.est}\")\n"
   ]
  }
 ],
 "metadata": {
  "kernelspec": {
   "display_name": "Luisin",
   "language": "python",
   "name": "python3"
  },
  "language_info": {
   "codemirror_mode": {
    "name": "ipython",
    "version": 3
   },
   "file_extension": ".py",
   "mimetype": "text/x-python",
   "name": "python",
   "nbconvert_exporter": "python",
   "pygments_lexer": "ipython3",
   "version": "3.9.18"
  }
 },
 "nbformat": 4,
 "nbformat_minor": 2
}
